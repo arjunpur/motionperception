 {
 "cells": [
  {
   "cell_type": "markdown",
   "id": "2bca8b65",
   "metadata": {},
   "source": [
    "# Fourier Transform: Analyzing Signals in the Frequency Domain\n",
    "\n",
    "## Overview\n",
    "\n",
    "The Fourier Transform is a powerful mathematical tool that allows us to decompose signals into their constituent frequencies. In this section, we'll explore the Fourier Transform and its relevance to motion perception and motion energy models.\n",
    "\n",
    "### What we'll cover:\n",
    "- The concept of spatial and temporal frequency\n",
    "- The intuition behind the Fourier Transform\n",
    "- Implementing and visualizing Fourier Transforms\n",
    "- The frequency representation of motion\n",
    "- How the Fourier Transform relates to visual processing in the brain"
   ]
  },
  {
   "cell_type": "markdown",
   "id": "8cd2d08c",
   "metadata": {},
   "source": [
    "## Setting Up\n",
    "\n",
    "Let's import the libraries we'll need for this section."
   ]
  },
  {
   "cell_type": "code",
   "execution_count": null,
   "id": "e6eb1eef",
   "metadata": {},
   "outputs": [],
   "source": [
    "import numpy as np\n",
    "import matplotlib.pyplot as plt\n",
    "from matplotlib import animation\n",
    "import scipy.signal as signal\n",
    "from scipy.fft import fft, fft2, fftshift, fftn\n",
    "import sys\n",
    "\n",
    "# Add the utils package to the path\n",
    "sys.path.append('../../..')\n",
    "from motionenergy.utils import stimuli_generation, visualization\n",
    "\n",
    "# For interactive plots\n",
    "%matplotlib inline\n",
    "from IPython.display import HTML, display\n",
    "\n",
    "# Set plotting style\n",
    "plt.style.use('seaborn-v0_8-whitegrid')\n",
    "plt.rcParams['figure.figsize'] = (10, 6)\n",
    "plt.rcParams['font.size'] = 12"
   ]
  },
  {
   "cell_type": "markdown",
   "id": "b37e1e65",
   "metadata": {},
   "source": [
    "## 1. Introduction to Frequency Analysis\n",
    "\n",
    "To understand motion energy models, we need to think about visual information in terms of frequencies. But what do we mean by \"frequency\" in the context of visual stimuli?\n",
    "\n",
    "### Spatial Frequency\n",
    "\n",
    "Spatial frequency refers to how rapidly a visual pattern changes over space. It's typically measured in cycles per degree of visual angle or cycles per pixel in digital images.\n",
    "\n",
    "- High spatial frequencies correspond to fine details and sharp edges\n",
    "- Low spatial frequencies correspond to coarse patterns and gradual changes\n",
    "\n",
    "### Temporal Frequency\n",
    "\n",
    "Temporal frequency refers to how rapidly a visual pattern changes over time. It's typically measured in cycles per second (Hz) or cycles per frame in digital videos.\n",
    "\n",
    "- High temporal frequencies correspond to rapid changes\n",
    "- Low temporal frequencies correspond to slow changes\n",
    "\n",
    "Let's visualize some examples to build intuition:"
   ]
  }
 ],
 "metadata": {
  "kernelspec": {
   "display_name": "Python 3",
   "language": "python",
   "name": "python3"
  },
  "language_info": {
   "codemirror_mode": {
    "name": "ipython",
    "version": 3
   },
   "file_extension": ".py",
   "mimetype": "text/x-python",
   "name": "python",
   "nbconvert_exporter": "python",
   "pygments_lexer": "ipython3",
   "version": "3.9.0"
  }
 },
 "nbformat": 4,
 "nbformat_minor": 5
}
