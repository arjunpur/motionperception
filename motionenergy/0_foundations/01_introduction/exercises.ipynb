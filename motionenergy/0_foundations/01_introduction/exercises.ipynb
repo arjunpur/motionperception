{
 "cells": [
  {
   "cell_type": "markdown",
   "metadata": {},
   "source": [
    "# Introduction to Motion Energy Models: Exercises\n",
    "\n",
    "## Overview\n",
    "\n",
    "In this exercise notebook, you'll apply the key concepts from the introduction to motion energy models. These exercises will help you develop intuition for how motion is represented in space-time and understand the foundational concepts that we'll build upon throughout the course.\n",
    "\n",
    "### Learning Objectives\n",
    "By completing these exercises, you will be able to:\n",
    "- Visualize and analyze motion patterns in space-time\n",
    "- Understand the components of a basic motion energy model\n",
    "- Explore how different parameters affect motion representation\n",
    "- Connect theoretical concepts to practical implementations"
   ]
  },
  {
   "cell_type": "markdown",
   "metadata": {},
   "source": [
    "## Setup\n",
    "\n",
    "Let's import the libraries we'll need for these exercises."
   ]
  },
  {
   "cell_type": "code",
   "execution_count": null,
   "metadata": {},
   "outputs": [],
   "source": [
    "import numpy as np\n",
    "import matplotlib.pyplot as plt\n",
    "from matplotlib import animation\n",
    "from mpl_toolkits.mplot3d import Axes3D\n",
    "import scipy.signal as signal\n",
    "import sys\n",
    "\n",
    "# Add the utils package to the path\n",
    "sys.path.append('../../..')\n",
    "try:\n",
    "    from motionenergy.utils import stimuli_generation, visualization\n",
    "except ImportError:\n",
    "    print(\"Note: utils modules not found. This is expected if you haven't implemented them yet.\")\n",
    "\n",
    "# For interactive plots\n",
    "%matplotlib inline\n",
    "from IPython.display import HTML, display\n",
    "\n",
    "# Set plotting style\n",
    "plt.style.use('seaborn-v0_8-whitegrid')\n",
    "plt.rcParams['figure.figsize'] = (10, 6)\n",
    "plt.rcParams['font.size'] = 12"
   ]
  },
  {
   "cell_type": "markdown",
   "metadata": {},
   "source": [
    "## Exercise 1: Analyzing Motion in Space-Time\n",
    "\n",
    "One of the key insights from the introduction is that motion can be represented as oriented patterns in space-time. In this exercise, you'll explore this concept by analyzing and creating space-time representations of motion.\n",
    "\n",
    "### 1.1 Understanding Space-Time Plots\n",
    "\n",
    "Here's a space-time plot of a simple moving bar:"
   ]
  },
  {
   "cell_type": "code",
   "execution_count": null,
   "metadata": {},
   "outputs": [],
   "source": [
    "# Create a space-time plot of a moving bar\n",
    "width = 100\n",
    "frames = 100\n",
    "bar_width = 5\n",
    "speed = 1\n",
    "\n",
    "# Create an empty space-time array\n",
    "spacetime = np.zeros((frames, width))\n",
    "\n",
    "# Add a moving bar\n",
    "for t in range(frames):\n",
    "    pos = (t * speed) % width\n",
    "    bar_start = int(max(0, pos - bar_width/2))\n",
    "    bar_end = int(min(width, pos + bar_width/2))\n",
    "    spacetime[t, bar_start:bar_end] = 1\n",
    "\n",
    "# Plot the space-time diagram\n",
    "plt.figure(figsize=(10, 8))\n",
    "plt.imshow(spacetime, cmap='gray', aspect='auto', origin='upper')\n",
    "plt.title('Space-Time Representation of a Moving Bar')\n",
    "plt.xlabel('Space (x)')\n",
    "plt.ylabel('Time (t)')\n",
    "plt.colorbar(label='Intensity')\n",
    "plt.show()"
   ]
  },
  {
   "cell_type": "markdown",
   "metadata": {},
   "source": [
    "**Questions:**\n",
    "\n",
    "1. What does the orientation of the bar in the space-time plot tell you about the direction of motion?\n",
    "2. How would the plot change if the bar moved in the opposite direction?\n",
    "3. What would happen to the slope of the line if the bar moved faster? Slower?"
   ]
  },
  {
   "cell_type": "markdown",
   "metadata": {},
   "source": [
    "**Your answers here:**\n",
    "1. \n",
    "2. \n",
    "3. "
   ]
  },
  {
   "cell_type": "markdown",
   "metadata": {},
   "source": [
    "### 1.2 Creating Space-Time Representations\n",
    "\n",
    "Now, let's create space-time representations for different types of motion. First, you'll need to implement a function to create a moving bar with variable speed and direction."
   ]
  },
  {
   "cell_type": "code",
   "metadata": {},
   "outputs": [],
   "source": "def create_moving_bar_stimulus(width, height, frames, speed, direction='right'):\n    \"\"\"\n    Create a stimulus with a bar moving at the specified speed and direction.\n    \n    Parameters:\n    -----------\n    width : int\n        Width of the stimulus frame\n    height : int\n        Height of the stimulus frame\n    frames : int\n        Number of frames in the sequence\n    speed : float\n        Speed of the bar in pixels per frame\n    direction : str\n        Direction of motion ('right', 'left', 'up', or 'down')\n        \n    Returns:\n    --------\n    stimulus : ndarray\n        3D array with dimensions (frames, height, width)\n    \"\"\"\n    # Initialize the stimulus array\n    stimulus = np.zeros((frames, height, width))\n    \n    # TODO: Implement the creation of a moving bar stimulus.\n    # The bar should move in the specified direction at the given speed.\n    # For horizontal motion (right/left), the bar should span the full height.\n    # For vertical motion (up/down), the bar should span the full width.\n    # The bar width should be approximately 10% of the frame dimension it's moving along.\n    \n    # HINTS:\n    # 1. For horizontal motion, you need to update the x-coordinate (column index) over frames\n    # 2. For vertical motion, you need to update the y-coordinate (row index) over frames\n    # 3. You'll need conditional logic based on the 'direction' parameter\n    # 4. Remember to handle cases where the bar goes outside the frame\n    \n    # Your implementation here:\n    \n    return stimulus"
  },
  {
   "cell_type": "markdown",
   "metadata": {},
   "source": [
    "Now, let's create a function to visualize the space-time representation of a stimulus:"
   ]
  },
  {
   "cell_type": "code",
   "metadata": {},
   "outputs": [],
   "source": "def visualize_spacetime(stimulus, slice_type='horizontal', slice_position=None):\n    \"\"\"\n    Visualize a stimulus in the space-time domain.\n    \n    Parameters:\n    -----------\n    stimulus : ndarray\n        3D array with dimensions (frames, height, width)\n    slice_type : str\n        Type of slice to extract ('horizontal' or 'vertical')\n    slice_position : int\n        Position at which to extract the slice (default: middle of frame)\n        \n    Returns:\n    --------\n    fig : matplotlib figure\n        Figure with the space-time visualization\n    \"\"\"\n    frames, height, width = stimulus.shape\n    \n    # Set default slice position if not provided\n    if slice_position is None:\n        if slice_type == 'horizontal':\n            slice_position = height // 2\n        else:  # vertical\n            slice_position = width // 2\n    \n    # TODO: Extract the appropriate slice from the stimulus based on slice_type\n    # and slice_position. For a horizontal slice, extract a slice along a row of pixels\n    # across all frames. For a vertical slice, extract a slice along a column of pixels\n    # across all frames.\n    \n    # HINTS:\n    # 1. For a horizontal slice, you want to extract stimulus[:, slice_position, :]\n    #    This gives you all frames, a specific y-position, and all x-positions\n    # 2. For a vertical slice, you want to extract stimulus[:, :, slice_position]\n    #    This gives you all frames, all y-positions, and a specific x-position\n    # 3. Make sure the dimensions of your extracted slice match the expected spacetime_slice shape\n    \n    # Your implementation here:\n    \n    # Create a place-holder spacetime_slice (you should replace this in your implementation)\n    if slice_type == 'horizontal':\n        spacetime_slice = np.zeros((frames, width))\n    else:  # vertical\n        spacetime_slice = np.zeros((frames, height))\n    \n    # Create the figure\n    fig, ax = plt.subplots(figsize=(10, 8))\n    im = ax.imshow(spacetime_slice, cmap='gray', aspect='auto', origin='upper')\n    \n    if slice_type == 'horizontal':\n        ax.set_title(f'Horizontal Space-Time Slice (y={slice_position})')\n        ax.set_xlabel('Space (x)')\n    else:  # vertical\n        ax.set_title(f'Vertical Space-Time Slice (x={slice_position})')\n        ax.set_xlabel('Space (y)')\n    \n    ax.set_ylabel('Time (t)')\n    plt.colorbar(im, ax=ax, label='Intensity')\n    \n    return fig"
  },
  {
   "cell_type": "markdown",
   "metadata": {},
   "source": [
    "Now, use your functions to create and visualize stimuli with different motion patterns:"
   ]
  },
  {
   "cell_type": "code",
   "execution_count": null,
   "metadata": {},
   "outputs": [],
   "source": [
    "# Create and visualize a rightward moving bar\n",
    "width, height = 100, 100\n",
    "frames = 50\n",
    "speed = 2\n",
    "\n",
    "# TODO: Create a stimulus using your create_moving_bar_stimulus function\n",
    "# with direction='right'\n",
    "\n",
    "# TODO: Visualize the stimulus in the space-time domain using your\n",
    "# visualize_spacetime function with slice_type='horizontal'"
   ]
  },
  {
   "cell_type": "code",
   "execution_count": null,
   "metadata": {},
   "outputs": [],
   "source": [
    "# TODO: Create and visualize a leftward moving bar\n",
    "# Create a stimulus with direction='left'\n",
    "# Visualize the space-time representation"
   ]
  },
  {
   "cell_type": "code",
   "execution_count": null,
   "metadata": {},
   "outputs": [],
   "source": [
    "# TODO: Create and visualize an upward moving bar\n",
    "# Create a stimulus with direction='up'\n",
    "# Visualize the space-time representation with slice_type='vertical'"
   ]
  },
  {
   "cell_type": "code",
   "execution_count": null,
   "metadata": {},
   "outputs": [],
   "source": [
    "# TODO: Create and visualize a downward moving bar\n",
    "# Create a stimulus with direction='down'\n",
    "# Visualize the space-time representation with slice_type='vertical'"
   ]
  },
  {
   "cell_type": "markdown",
   "metadata": {},
   "source": [
    "### 1.3 Quantifying Motion from Space-Time\n",
    "\n",
    "Now, let's implement a function to estimate the direction and speed of motion from a space-time representation. One approach is to measure the orientation of the pattern in the space-time domain."
   ]
  },
  {
   "cell_type": "code",
   "metadata": {},
   "outputs": [],
   "source": "def estimate_motion_from_spacetime(spacetime_slice):\n    \"\"\"\n    Estimate the direction and speed of motion from a space-time slice.\n    \n    Parameters:\n    -----------\n    spacetime_slice : ndarray\n        2D array representing a slice through space-time\n        \n    Returns:\n    --------\n    direction : str\n        Estimated direction of motion ('right', 'left', 'up', 'down', or 'unknown')\n    speed : float\n        Estimated speed in pixels per frame\n    \"\"\"\n    # TODO: Implement an algorithm to estimate motion direction and speed\n    # from the space-time slice. One approach is to analyze the orientation\n    # of patterns in the slice.\n    # \n    # TUTORIAL:\n    # Motion in space-time creates slanted lines. The orientation of these lines tells us about motion:\n    # - For horizontal slices:\n    #   * Rightward motion creates lines slanted down and to the right\n    #   * Leftward motion creates lines slanted down and to the left\n    # - For vertical slices:\n    #   * Downward motion creates lines slanted down and to the right\n    #   * Upward motion creates lines slanted down and to the left\n    #\n    # The speed is related to the slope of these lines:\n    # - Steeper slopes = slower motion\n    # - Shallower slopes = faster motion\n    # - Speed = dx/dt = 1/slope\n    #\n    # Techniques you might use:\n    # 1. Hough Transform (from skimage.transform import hough_line, hough_line_peaks)\n    #    This can detect lines and their angles in the space-time slice\n    # 2. Gradient-based approaches (np.gradient)\n    #    Calculate spatial and temporal gradients and analyze their ratio\n    # 3. Edge detection followed by line fitting\n    #    Detect edges then fit lines to estimate orientation\n    \n    # Your implementation here:\n    \n    # Placeholder return values (replace with your estimates)\n    direction = 'unknown'\n    speed = 0.0\n    \n    return direction, speed"
  },
  {
   "cell_type": "markdown",
   "metadata": {},
   "source": [
    "Try your motion estimation function on the space-time slices you created:"
   ]
  },
  {
   "cell_type": "code",
   "execution_count": null,
   "metadata": {},
   "outputs": [],
   "source": [
    "# TODO: Extract a space-time slice from one of your stimuli and\n",
    "# apply your estimate_motion_from_spacetime function to estimate\n",
    "# the direction and speed. Compare the results to the actual values\n",
    "# you used when creating the stimulus."
   ]
  },
  {
   "cell_type": "markdown",
   "metadata": {},
   "source": [
    "## Exercise 2: Components of Motion Energy Models\n",
    "\n",
    "Motion energy models consist of several key components that work together to detect motion. In this exercise, you'll explore these components and how they relate to each other.\n",
    "\n",
    "### 2.1 Motion Energy Model Components\n",
    "\n",
    "Below is a high-level diagram of a motion energy model:"
   ]
  },
  {
   "cell_type": "code",
   "execution_count": null,
   "metadata": {},
   "outputs": [],
   "source": [
    "from matplotlib.patches import Rectangle, Arrow, FancyArrowPatch\n",
    "\n",
    "def draw_model_diagram():\n",
    "    fig, ax = plt.subplots(figsize=(12, 8))\n",
    "    \n",
    "    # Set up the axes\n",
    "    ax.set_xlim(0, 10)\n",
    "    ax.set_ylim(0, 6)\n",
    "    ax.axis('off')\n",
    "    \n",
    "    # Draw the input\n",
    "    ax.add_patch(Rectangle((0.5, 2.5), 1, 1, fill=True, alpha=0.3, color='blue'))\n",
    "    ax.text(1, 2, \"Visual\\nInput\", ha='center')\n",
    "    \n",
    "    # Draw the filters\n",
    "    ax.add_patch(Rectangle((3, 4), 1.5, 1, fill=True, alpha=0.3, color='green'))\n",
    "    ax.text(3.75, 3.7, \"Even Filter\\n(cosine phase)\", ha='center')\n",
    "    \n",
    "    ax.add_patch(Rectangle((3, 1), 1.5, 1, fill=True, alpha=0.3, color='green'))\n",
    "    ax.text(3.75, 0.7, \"Odd Filter\\n(sine phase)\", ha='center')\n",
    "    \n",
    "    # Draw the squared outputs\n",
    "    ax.add_patch(Rectangle((6, 4), 1, 1, fill=True, alpha=0.3, color='orange'))\n",
    "    ax.text(6.5, 3.7, \"Square\", ha='center')\n",
    "    \n",
    "    ax.add_patch(Rectangle((6, 1), 1, 1, fill=True, alpha=0.3, color='orange'))\n",
    "    ax.text(6.5, 0.7, \"Square\", ha='center')\n",
    "    \n",
    "    # Draw the sum\n",
    "    ax.add_patch(Rectangle((8.5, 2.5), 1, 1, fill=True, alpha=0.3, color='red'))\n",
    "    ax.text(9, 2, \"Sum\\n(Energy)\", ha='center')\n",
    "    \n",
    "    # Draw the arrows\n",
    "    ax.add_patch(FancyArrowPatch((1.5, 3), (3, 4.5), arrowstyle='->', mutation_scale=20, color='black'))\n",
    "    ax.add_patch(FancyArrowPatch((1.5, 3), (3, 1.5), arrowstyle='->', mutation_scale=20, color='black'))\n",
    "    \n",
    "    ax.add_patch(FancyArrowPatch((4.5, 4.5), (6, 4.5), arrowstyle='->', mutation_scale=20, color='black'))\n",
    "    ax.add_patch(FancyArrowPatch((4.5, 1.5), (6, 1.5), arrowstyle='->', mutation_scale=20, color='black'))\n",
    "    \n",
    "    ax.add_patch(FancyArrowPatch((7, 4.5), (8.5, 3), arrowstyle='->', mutation_scale=20, color='black'))\n",
    "    ax.add_patch(FancyArrowPatch((7, 1.5), (8.5, 3), arrowstyle='->', mutation_scale=20, color='black'))\n",
    "    \n",
    "    ax.set_title(\"Basic Motion Energy Model\", fontsize=16)\n",
    "    \n",
    "    return fig\n",
    "\n",
    "draw_model_diagram()"
   ]
  },
  {
   "cell_type": "markdown",
   "metadata": {},
   "source": [
    "**Questions:**\n",
    "\n",
    "1. What is the purpose of having both even (cosine phase) and odd (sine phase) filters?\n",
    "2. Why do we square the outputs of the filters?\n",
    "3. What does the final summed output (energy) represent?\n",
    "4. How would you modify this model to detect motion in the opposite direction?"
   ]
  },
  {
   "cell_type": "markdown",
   "metadata": {},
   "source": [
    "**Your answers here:**\n",
    "1. \n",
    "2. \n",
    "3. \n",
    "4. "
   ]
  },
  {
   "cell_type": "markdown",
   "metadata": {},
   "source": [
    "### 2.2 Simple Filter Responses\n",
    "\n",
    "Let's implement a simplified version of the first stage of a motion energy model: applying spatiotemporal filters to a stimulus. We'll start with 1D space + time for simplicity."
   ]
  },
  {
   "cell_type": "code",
   "metadata": {},
   "outputs": [],
   "source": "def create_1d_spatiotemporal_filters(space_size, time_size, speed, direction=1):\n    \"\"\"\n    Create a pair of 1D+time spatiotemporal filters (even and odd phase).\n    \n    Parameters:\n    -----------\n    space_size : int\n        Size of the spatial dimension\n    time_size : int\n        Size of the temporal dimension\n    speed : float\n        Speed of the filter's preferred motion\n    direction : int\n        Direction of the filter's preferred motion (1 for rightward, -1 for leftward)\n        \n    Returns:\n    --------\n    even_filter : ndarray\n        2D array with dimensions (time_size, space_size) for the even phase filter\n    odd_filter : ndarray\n        2D array with dimensions (time_size, space_size) for the odd phase filter\n    \"\"\"\n    # TODO: Implement the creation of a pair of 1D+time spatiotemporal filters.\n    # These filters should be selective for motion at the specified speed and direction.\n    # The even filter should have cosine phase, and the odd filter should have sine phase.\n    # \n    # TUTORIAL:\n    # 1. Understand space-time orientation:\n    #    - A motion-selective filter is oriented in space-time in the direction of motion\n    #    - The slope of this orientation is determined by the speed\n    #    - direction=1 means rightward motion (positive slope), direction=-1 means leftward (negative slope)\n    # \n    # 2. Creating a spatiotemporal Gabor filter:\n    #    a) Create a 2D coordinate system (x, t) covering your space-time dimensions\n    #    b) Create a rotated coordinate system (x', t') that's oriented along the motion trajectory\n    #       x' = x*cos(θ) + t*sin(θ)  # Where θ depends on speed and direction\n    #       t' = -x*sin(θ) + t*cos(θ)\n    #    c) Create a Gabor filter using these rotated coordinates:\n    #       even_filter = exp(-(x'^2 + t'^2)/(2*sigma^2)) * cos(2π*f*x')\n    #       odd_filter = exp(-(x'^2 + t'^2)/(2*sigma^2)) * sin(2π*f*x')\n    #    d) The spatial frequency f and Gaussian envelope sigma determine the filter's selectivity\n    #\n    # 3. Parameters to consider:\n    #    - Spatial frequency (f): Higher values make the filter selective for higher spatial frequencies\n    #    - Sigma: Controls the size of the Gaussian envelope\n    #    - Orientation angle (θ): Determined by speed and direction, θ = arctan(direction * speed)\n    \n    # Your implementation here:\n    \n    # Placeholder return values (replace with your filters)\n    even_filter = np.zeros((time_size, space_size))\n    odd_filter = np.zeros((time_size, space_size))\n    \n    return even_filter, odd_filter"
  },
  {
   "cell_type": "code",
   "metadata": {},
   "outputs": [],
   "source": "def apply_energy_model(stimulus, even_filter, odd_filter):\n    \"\"\"\n    Apply a motion energy model to a stimulus.\n    \n    Parameters:\n    -----------\n    stimulus : ndarray\n        2D array with dimensions (time, space) representing the stimulus\n    even_filter : ndarray\n        2D array with dimensions (time, space) for the even phase filter\n    odd_filter : ndarray\n        2D array with dimensions (time, space) for the odd phase filter\n        \n    Returns:\n    --------\n    energy : float\n        Motion energy response\n    \"\"\"\n    # TODO: Implement the motion energy model:\n    # 1. Apply the even filter to the stimulus using convolution\n    # 2. Apply the odd filter to the stimulus using convolution\n    # 3. Square both filter responses\n    # 4. Sum the squared responses to get the motion energy\n    \n    # TUTORIAL:\n    # The motion energy computation follows these steps:\n    #\n    # 1. Convolve the stimulus with each filter:\n    #    - even_response = scipy.signal.convolve2d(stimulus, even_filter, mode='valid')\n    #    - odd_response = scipy.signal.convolve2d(stimulus, odd_filter, mode='valid')\n    #    - The 'valid' mode means only return output where filters and input fully overlap\n    #\n    # 2. Square the responses:\n    #    - even_response_squared = even_response ** 2\n    #    - odd_response_squared = odd_response ** 2\n    #\n    # 3. Sum the squared responses:\n    #    - energy = np.sum(even_response_squared + odd_response_squared)\n    #      or for a more detailed output:\n    #    - energy_map = even_response_squared + odd_response_squared\n    #\n    # 4. IMPORTANT: The squaring and summing steps make the energy model phase-invariant,\n    #    which means it responds similarly regardless of the exact position of features\n    #    within the receptive field\n    \n    # Your implementation here:\n    \n    # Placeholder return value (replace with your calculation)\n    energy = 0.0\n    \n    return energy"
  },
  {
   "cell_type": "markdown",
   "metadata": {},
   "source": [
    "Let's create a simple 1D+time stimulus and test your implementation:"
   ]
  },
  {
   "cell_type": "code",
   "execution_count": null,
   "metadata": {},
   "outputs": [],
   "source": [
    "def create_1d_moving_bar(space_size, time_size, bar_width, speed, direction=1):\n",
    "    \"\"\"\n",
    "    Create a 1D bar moving over time.\n",
    "    \n",
    "    Parameters:\n",
    "    -----------\n",
    "    space_size : int\n",
    "        Size of the spatial dimension\n",
    "    time_size : int\n",
    "        Number of time frames\n",
    "    bar_width : int\n",
    "        Width of the bar in pixels\n",
    "    speed : float\n",
    "        Speed of the bar in pixels per frame\n",
    "    direction : int\n",
    "        Direction of motion (1 for rightward, -1 for leftward)\n",
    "        \n",
    "    Returns:\n",
    "    --------\n",
    "    stimulus : ndarray\n",
    "        2D array with dimensions (time_size, space_size)\n",
    "    \"\"\"\n",
    "    stimulus = np.zeros((time_size, space_size))\n",
    "    \n",
    "    for t in range(time_size):\n",
    "        center = int((space_size / 2) + direction * speed * (t - time_size / 2))\n",
    "        start = max(0, center - bar_width // 2)\n",
    "        end = min(space_size, center + bar_width // 2)\n",
    "        if start < space_size and end > 0:\n",
    "            stimulus[t, start:end] = 1.0\n",
    "            \n",
    "    return stimulus\n",
    "\n",
    "# Create a simple rightward moving bar\n",
    "space_size = 50\n",
    "time_size = 30\n",
    "bar_width = 5\n",
    "speed = 1\n",
    "direction = 1  # rightward\n",
    "\n",
    "stimulus_right = create_1d_moving_bar(space_size, time_size, bar_width, speed, direction)\n",
    "\n",
    "# Visualize the stimulus\n",
    "plt.figure(figsize=(10, 6))\n",
    "plt.imshow(stimulus_right, cmap='gray', aspect='auto', origin='upper')\n",
    "plt.title(f'1D Space-Time: {\"Rightward\" if direction==1 else \"Leftward\"} Moving Bar')\n",
    "plt.xlabel('Space')\n",
    "plt.ylabel('Time')\n",
    "plt.colorbar(label='Intensity')\n",
    "plt.show()"
   ]
  },
  {
   "cell_type": "code",
   "execution_count": null,
   "metadata": {},
   "outputs": [],
   "source": [
    "# Create filters for rightward motion\n",
    "even_filter_right, odd_filter_right = create_1d_spatiotemporal_filters(space_size, time_size, speed, direction=1)\n",
    "\n",
    "# Create filters for leftward motion\n",
    "even_filter_left, odd_filter_left = create_1d_spatiotemporal_filters(space_size, time_size, speed, direction=-1)\n",
    "\n",
    "# Visualize the filters\n",
    "fig, axs = plt.subplots(2, 2, figsize=(12, 8))\n",
    "\n",
    "axs[0, 0].imshow(even_filter_right, cmap='RdBu_r', aspect='auto', origin='upper')\n",
    "axs[0, 0].set_title('Even Filter (Rightward)')\n",
    "axs[0, 0].set_xlabel('Space')\n",
    "axs[0, 0].set_ylabel('Time')\n",
    "\n",
    "axs[0, 1].imshow(odd_filter_right, cmap='RdBu_r', aspect='auto', origin='upper')\n",
    "axs[0, 1].set_title('Odd Filter (Rightward)')\n",
    "axs[0, 1].set_xlabel('Space')\n",
    "axs[0, 1].set_ylabel('Time')\n",
    "\n",
    "axs[1, 0].imshow(even_filter_left, cmap='RdBu_r', aspect='auto', origin='upper')\n",
    "axs[1, 0].set_title('Even Filter (Leftward)')\n",
    "axs[1, 0].set_xlabel('Space')\n",
    "axs[1, 0].set_ylabel('Time')\n",
    "\n",
    "axs[1, 1].imshow(odd_filter_left, cmap='RdBu_r', aspect='auto', origin='upper')\n",
    "axs[1, 1].set_title('Odd Filter (Leftward)')\n",
    "axs[1, 1].set_xlabel('Space')\n",
    "axs[1, 1].set_ylabel('Time')\n",
    "\n",
    "plt.tight_layout()\n",
    "plt.show()"
   ]
  },
  {
   "cell_type": "code",
   "execution_count": null,
   "metadata": {},
   "outputs": [],
   "source": [
    "# TODO: Now test your energy model on stimuli moving in both directions\n",
    "# (rightward and leftward) and with filters tuned to both directions.\n",
    "# Calculate and compare the energy responses for each combination.\n",
    "\n",
    "# Create leftward moving stimulus\n",
    "stimulus_left = create_1d_moving_bar(space_size, time_size, bar_width, speed, direction=-1)\n",
    "\n",
    "# Apply your energy model to each combination of stimulus and filter\n",
    "# Calculate energy responses\n",
    "\n",
    "# Visualize the results"
   ]
  },
  {
   "cell_type": "markdown",
   "metadata": {},
   "source": [
    "### 2.3 Direction Selectivity\n",
    "\n",
    "The motion energy model should respond more strongly to motion in its preferred direction. Let's explore this direction selectivity."
   ]
  },
  {
   "cell_type": "code",
   "metadata": {},
   "outputs": [],
   "source": "def compute_direction_selectivity(stimulus, preferred_speed, angles):\n    \"\"\"\n    Compute directional tuning curve for a given stimulus.\n    \n    Parameters:\n    -----------\n    stimulus : ndarray\n        2D array with dimensions (time, space) representing the stimulus\n    preferred_speed : float\n        Preferred speed for the filters\n    angles : array-like\n        Array of angles (in degrees) to test\n        \n    Returns:\n    --------\n    responses : ndarray\n        Array of energy responses for each angle\n    \"\"\"\n    # TODO: Implement a function that computes the response of energy models\n    # tuned to different directions (specified by angles) for a given stimulus.\n    # \n    # TUTORIAL:\n    # For a 1D space + time stimulus, angles of 0° and 180° represent rightward and leftward motion.\n    # For each angle:\n    # 1. Convert the angle to a direction vector:\n    #    - direction = np.cos(angle_radians)  # 1 for rightward (0°), -1 for leftward (180°)\n    # \n    # 2. Create filters tuned to that direction:\n    #    - even_filter, odd_filter = create_1d_spatiotemporal_filters(\n    #        space_size, time_size, preferred_speed, direction)\n    # \n    # 3. Apply the energy model to get a response:\n    #    - energy = apply_energy_model(stimulus, even_filter, odd_filter)\n    # \n    # 4. Store the response for each angle:\n    #    - responses[i] = energy\n    #\n    # Note: For a comprehensive directional tuning curve, test angles spanning the full 360°,\n    # even though in 1D+time we're primarily interested in 0° (right) and 180° (left).\n    # This prepares us for 2D+time in later exercises.\n    \n    # Your implementation here:\n    \n    # Placeholder return value (replace with your calculations)\n    responses = np.zeros(len(angles))\n    \n    return responses"
  },
  {
   "cell_type": "code",
   "execution_count": null,
   "metadata": {},
   "outputs": [],
   "source": [
    "# TODO: Use your compute_direction_selectivity function to generate\n",
    "# tuning curves for rightward and leftward moving stimuli.\n",
    "# Plot the results on polar coordinates to visualize the directional tuning.\n",
    "\n",
    "# Define angles to test\n",
    "angles = np.linspace(0, 360, 16, endpoint=False)\n",
    "\n",
    "# Compute direction selectivity\n",
    "\n",
    "# Plot the results"
   ]
  },
  {
   "cell_type": "markdown",
   "metadata": {},
   "source": [
    "## Exercise 3: Motion Energy Parameters\n",
    "\n",
    "In this exercise, you'll explore how different parameters affect motion energy models. You'll implement a simple interface to visualize these effects."
   ]
  },
  {
   "cell_type": "code",
   "execution_count": null,
   "metadata": {},
   "outputs": [],
   "source": [
    "from ipywidgets import interact, FloatSlider, IntSlider, Dropdown\n",
    "\n",
    "def explore_filter_parameters(spatial_freq=0.1, temporal_freq=0.1, direction=0, sigma_space=10, sigma_time=10):\n",
    "    \"\"\"\n",
    "    Visualize spatiotemporal filters with adjustable parameters.\n",
    "    \n",
    "    Parameters:\n",
    "    -----------\n",
    "    spatial_freq : float\n",
    "        Spatial frequency of the filter\n",
    "    temporal_freq : float\n",
    "        Temporal frequency of the filter\n",
    "    direction : float\n",
    "        Direction of motion (in degrees)\n",
    "    sigma_space : float\n",
    "        Spatial spread of the Gaussian envelope\n",
    "    sigma_time : float\n",
    "        Temporal spread of the Gaussian envelope\n",
    "    \"\"\"\n",
    "    # TODO: Implement a function that creates and visualizes spatiotemporal\n",
    "    # filters with the specified parameters. The visualization should include:\n",
    "    # - The even and odd filters\n",
    "    # - How they respond to example stimuli\n",
    "    # - Motion energy calculations\n",
    "    \n",
    "    # Your implementation here:\n",
    "    \n",
    "    # Placeholder visualization\n",
    "    fig, axs = plt.subplots(1, 2, figsize=(12, 5))\n",
    "    axs[0].text(0.5, 0.5, \"Even Filter\\nwould be shown here\", ha='center', va='center')\n",
    "    axs[0].set_title(\"Even Filter\")\n",
    "    axs[0].set_xlim(0, 1)\n",
    "    axs[0].set_ylim(0, 1)\n",
    "    \n",
    "    axs[1].text(0.5, 0.5, \"Odd Filter\\nwould be shown here\", ha='center', va='center')\n",
    "    axs[1].set_title(\"Odd Filter\")\n",
    "    axs[1].set_xlim(0, 1)\n",
    "    axs[1].set_ylim(0, 1)\n",
    "    \n",
    "    plt.suptitle(f\"Spatiotemporal Filters (SF={spatial_freq}, TF={temporal_freq}, Dir={direction}°)\")\n",
    "    plt.tight_layout()\n",
    "    plt.show()\n",
    "\n",
    "# Create an interactive widget to explore filter parameters\n",
    "interact(\n",
    "    explore_filter_parameters,\n",
    "    spatial_freq=FloatSlider(min=0.01, max=0.5, step=0.01, value=0.1, description=\"Spatial Freq:\"),\n",
    "    temporal_freq=FloatSlider(min=0.01, max=0.5, step=0.01, value=0.1, description=\"Temporal Freq:\"),\n",
    "    direction=FloatSlider(min=0, max=360, step=15, value=0, description=\"Direction (°):\"),\n",
    "    sigma_space=IntSlider(min=1, max=20, value=10, description=\"Spatial σ:\"),\n",
    "    sigma_time=IntSlider(min=1, max=20, value=10, description=\"Temporal σ:\")\n",
    ");"
   ]
  },
  {
   "cell_type": "markdown",
   "metadata": {},
   "source": [
    "**Questions:**\n",
    "\n",
    "1. How does changing the spatial frequency affect the filter's selectivity for different speeds?\n",
    "2. How does changing the temporal frequency affect the filter's selectivity for different speeds?\n",
    "3. What is the relationship between spatial frequency, temporal frequency, and preferred speed?\n",
    "4. How do the sigma parameters affect the filter's selectivity?"
   ]
  },
  {
   "cell_type": "markdown",
   "metadata": {},
   "source": [
    "**Your answers here:**\n",
    "1. \n",
    "2. \n",
    "3. \n",
    "4. "
   ]
  },
  {
   "cell_type": "markdown",
   "metadata": {},
   "source": [
    "## Summary\n",
    "\n",
    "In these exercises, you've explored the fundamental concepts of motion energy models:\n",
    "\n",
    "1. You've analyzed and created space-time representations of motion, which are central to understanding how motion can be detected from a sequence of static images.\n",
    "\n",
    "2. You've implemented components of a basic motion energy model, including spatiotemporal filters and the energy calculation, and explored how these components work together to detect motion.\n",
    "\n",
    "3. You've investigated how different parameters affect the behavior of motion energy models, building intuition for how these models can be tuned to detect different types of motion.\n",
    "\n",
    "In the next section, we'll explore visual stimuli in more detail, which will allow us to create and manipulate more complex motion patterns."
   ]
  }
 ],
 "metadata": {
  "kernelspec": {
   "display_name": "Python 3",
   "language": "python",
   "name": "python3"
  },
  "language_info": {
   "codemirror_mode": {
    "name": "ipython",
    "version": 3
   },
   "file_extension": ".py",
   "mimetype": "text/x-python",
   "name": "python",
   "nbconvert_exporter": "python",
   "pygments_lexer": "ipython3",
   "version": "3.9.0"
  }
 },
 "nbformat": 4,
 "nbformat_minor": 4
}