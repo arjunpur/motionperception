{
 "cells": [
  {
   "cell_type": "markdown",
   "id": "ac4f50aa",
   "metadata": {},
   "source": [
    "# Introduction to Motion Energy Models - Exercises\n",
    "\n",
    "These exercises will help you develop an intuitive understanding of motion in the spatiotemporal domain and introduce you to the basic concepts of motion energy models."
   ]
  },
  {
   "cell_type": "code",
   "execution_count": null,
   "id": "bf82d5fa",
   "metadata": {},
   "outputs": [],
   "source": [
    "import numpy as np\n",
    "import matplotlib.pyplot as plt\n",
    "from matplotlib import animation\n",
    "from mpl_toolkits.mplot3d import Axes3D\n",
    "import scipy.signal as signal\n",
    "import sys\n",
    "\n",
    "# Add the utils package to the path\n",
    "sys.path.append('../../..')\n",
    "\n",
    "# For interactive plots\n",
    "%matplotlib inline\n",
    "from IPython.display import HTML, display\n",
    "\n",
    "# Set plotting style\n",
    "plt.style.use('seaborn-v0_8-whitegrid')\n",
    "plt.rcParams['figure.figsize'] = (10, 6)"
   ]
  },
  {
   "cell_type": "markdown",
   "id": "e6d53cfa",
   "metadata": {},
   "source": [
    "## Exercise 1: Visualizing Motion in Space-Time\n",
    "\n",
    "In this exercise, you'll create various moving stimuli and visualize them in the space-time domain to develop an intuition for how motion appears in this representation.\n",
    "\n",
    "### Task 1.1: Create a Moving Bar\n",
    "\n",
    "Implement a function that generates a moving bar stimulus with parameters for:\n",
    "- Spatial dimension (width)\n",
    "- Temporal dimension (frames)\n",
    "- Bar width\n",
    "- Speed (pixels per frame)\n",
    "- Direction (\"right\" or \"left\")"
   ]
  },
  {
   "cell_type": "code",
   "execution_count": null,
   "id": "f4cf5afc",
   "metadata": {},
   "outputs": [],
   "source": [
    "def create_moving_bar(width, frames, bar_width, speed, direction='right'):\n",
    "    \"\"\"\n",
    "    Create a moving bar stimulus in space-time.\n",
    "    \n",
    "    Parameters:\n",
    "    -----------\n",
    "    width : int\n",
    "        Width of the spatial dimension\n",
    "    frames : int\n",
    "        Number of frames (temporal dimension)\n",
    "    bar_width : int\n",
    "        Width of the bar\n",
    "    speed : float\n",
    "        Speed of the bar in pixels per frame\n",
    "    direction : str\n",
    "        'left' or 'right'\n",
    "        \n",
    "    Returns:\n",
    "    --------\n",
    "    stimulus : ndarray\n",
    "        2D array with dimensions (frames, width)\n",
    "    \"\"\"\n",
    "    # Create an empty space-time array\n",
    "    stimulus = np.zeros((frames, width))\n",
    "    \n",
    "    # TODO: Implement the moving bar stimulus\n",
    "    # Hint: For each time frame, calculate the position of the bar\n",
    "    # and set the corresponding pixels to 1\n",
    "    \n",
    "    # Your code here\n",
    "    \n",
    "    return stimulus"
   ]
  },
  {
   "cell_type": "markdown",
   "id": "c7d2fe2a",
   "metadata": {},
   "source": [
    "### Task 1.2: Visualize the Stimulus as a Video\n",
    "\n",
    "Create a function that displays an animation of the moving bar stimulus."
   ]
  },
  {
   "cell_type": "code",
   "execution_count": null,
   "id": "de4b5121",
   "metadata": {},
   "outputs": [],
   "source": [
    "def visualize_stimulus_animation(stimulus):\n",
    "    \"\"\"\n",
    "    Visualize a spatiotemporal stimulus as an animation.\n",
    "    \n",
    "    Parameters:\n",
    "    -----------\n",
    "    stimulus : ndarray\n",
    "        2D array with dimensions (frames, width)\n",
    "        \n",
    "    Returns:\n",
    "    --------\n",
    "    animation : HTML\n",
    "        Animation of the stimulus\n",
    "    \"\"\"\n",
    "    # TODO: Create and return an animation of the stimulus\n",
    "    # Hint: Use matplotlib's animation.FuncAnimation\n",
    "    \n",
    "    # Your code here\n",
    "    \n",
    "    return HTML(anim.to_jshtml())"
   ]
  },
  {
   "cell_type": "markdown",
   "id": "d2aef82f",
   "metadata": {},
   "source": [
    "### Task 1.3: Visualize the Stimulus in Space-Time\n",
    "\n",
    "Create a function that displays the moving bar stimulus as a space-time plot, showing how motion creates slanted patterns in the space-time domain."
   ]
  },
  {
   "cell_type": "code",
   "execution_count": null,
   "id": "b5f20f02",
   "metadata": {},
   "outputs": [],
   "source": [
    "def visualize_spacetime(stimulus, title=\"Space-Time Representation\"):\n",
    "    \"\"\"\n",
    "    Visualize a spatiotemporal stimulus as a space-time plot.\n",
    "    \n",
    "    Parameters:\n",
    "    -----------\n",
    "    stimulus : ndarray\n",
    "        2D array with dimensions (frames, width)\n",
    "    title : str, optional\n",
    "        Title for the plot\n",
    "        \n",
    "    Returns:\n",
    "    --------\n",
    "    fig : matplotlib figure\n",
    "        Figure with space-time visualization\n",
    "    \"\"\"\n",
    "    # TODO: Create a space-time plot of the stimulus\n",
    "    # Hint: Use plt.imshow with origin='upper' to match the convention\n",
    "    # that time increases downward\n",
    "    \n",
    "    # Your code here\n",
    "    \n",
    "    return fig"
   ]
  },
  {
   "cell_type": "markdown",
   "id": "af5e3fa1",
   "metadata": {},
   "source": [
    "### Task 1.4: Experiment with Different Speeds and Directions\n",
    "\n",
    "Create moving bars with different speeds and directions and observe the resulting space-time plots. Analyze how the slope and orientation of the pattern relate to speed and direction."
   ]
  },
  {
   "cell_type": "code",
   "execution_count": null,
   "id": "ab5e3c21",
   "metadata": {},
   "outputs": [],
   "source": [
    "# Create and visualize moving bars with different speeds\n",
    "width = 100\n",
    "frames = 100\n",
    "bar_width = 5\n",
    "\n",
    "# TODO: Create a series of stimuli with different speeds and directions\n",
    "# and visualize them in space-time\n",
    "# Hint: Use a loop to create multiple stimuli and arrange the plots in a grid\n",
    "\n",
    "# Your code here"
   ]
  },
  {
   "cell_type": "markdown",
   "id": "a5b87a9c",
   "metadata": {},
   "source": [
    "### Discussion 1.5: Motion as Orientation\n",
    "\n",
    "Based on your observations in the previous tasks, explain the relationship between motion parameters (speed and direction) and the orientation of patterns in the space-time domain. Consider the following questions:\n",
    "\n",
    "1. How does the slope of the pattern change with speed?\n",
    "2. How does the orientation differ between leftward and rightward motion?\n",
    "3. What would a stationary object look like in the space-time domain?\n",
    "4. Why is thinking about motion as orientation in space-time useful for motion energy models?"
   ]
  },
  {
   "cell_type": "markdown",
   "id": "cbd43ba4",
   "metadata": {},
   "source": [
    "Your answer here:\n",
    "\n",
    "1. \n",
    "2. \n",
    "3. \n",
    "4. "
   ]
  },
  {
   "cell_type": "markdown",
   "id": "f57d8621",
   "metadata": {},
   "source": [
    "## Exercise 2: Understanding Classic Motion Phenomena\n",
    "\n",
    "In this exercise, you'll explore some classic motion perception phenomena that motion energy models can explain.\n",
    "\n",
    "### Task 2.1: Create an Apparent Motion Stimulus\n",
    "\n",
    "Create a stimulus that demonstrates apparent motion (phi phenomenon) - a stationary object that appears at one location, disappears, and then appears at another location, creating the perception of motion."
   ]
  },
  {
   "cell_type": "code",
   "execution_count": null,
   "id": "db7534e2",
   "metadata": {},
   "outputs": [],
   "source": [
    "def create_apparent_motion(width, frames, object_size, start_pos, end_pos, on_duration, off_duration):\n",
    "    \"\"\"\n",
    "    Create an apparent motion stimulus where an object appears at one position,\n",
    "    disappears, and then appears at another position.\n",
    "    \n",
    "    Parameters:\n",
    "    -----------\n",
    "    width : int\n",
    "        Width of the spatial dimension\n",
    "    frames : int\n",
    "        Number of frames\n",
    "    object_size : int\n",
    "        Size of the object\n",
    "    start_pos : int\n",
    "        Starting position\n",
    "    end_pos : int\n",
    "        Ending position\n",
    "    on_duration : int\n",
    "        Number of frames the object is visible\n",
    "    off_duration : int\n",
    "        Number of frames the object is invisible between positions\n",
    "        \n",
    "    Returns:\n",
    "    --------\n",
    "    stimulus : ndarray\n",
    "        2D array with dimensions (frames, width)\n",
    "    \"\"\"\n",
    "    # TODO: Implement the apparent motion stimulus\n",
    "    # Hint: Create a stimulus where the object is visible at start_pos\n",
    "    # for on_duration frames, then invisible for off_duration frames,\n",
    "    # then visible at end_pos for on_duration frames\n",
    "    \n",
    "    # Your code here\n",
    "    \n",
    "    return stimulus"
   ]
  },
  {
   "cell_type": "markdown",
   "id": "eeed2df4",
   "metadata": {},
   "source": [
    "### Task 2.2: Compare Real and Apparent Motion\n",
    "\n",
    "Create both a real (continuous) motion stimulus and an apparent motion stimulus with the same start and end points. Visualize both as animations and as space-time plots. What are the key differences?"
   ]
  },
  {
   "cell_type": "code",
   "execution_count": null,
   "id": "4c8df57e",
   "metadata": {},
   "outputs": [],
   "source": [
    "# TODO: Create and visualize real and apparent motion stimuli\n",
    "# Hint: Use the functions you've already implemented\n",
    "\n",
    "# Your code here"
   ]
  },
  {
   "cell_type": "markdown",
   "id": "7a49e75e",
   "metadata": {},
   "source": [
    "### Discussion 2.3: Comparing Real and Apparent Motion\n",
    "\n",
    "Based on your visualizations, describe the key differences between real and apparent motion in the space-time domain. Consider the following questions:\n",
    "\n",
    "1. How do the space-time patterns differ between real and apparent motion?\n",
    "2. Why do we perceive apparent motion as motion, even though there is no physical movement?\n",
    "3. How might a motion energy model (which detects oriented patterns in space-time) respond to both types of stimuli?"
   ]
  },
  {
   "cell_type": "markdown",
   "id": "aa4e9c3b",
   "metadata": {},
   "source": [
    "Your answer here:\n",
    "\n",
    "1. \n",
    "2. \n",
    "3. "
   ]
  },
  {
   "cell_type": "markdown",
   "id": "c78a8e43",
   "metadata": {},
   "source": [
    "## Exercise 3: Creating and Visualizing Drifting Gratings\n",
    "\n",
    "Drifting gratings are a common stimulus used in vision research. In this exercise, you'll create and visualize drifting gratings in the space-time domain.\n",
    "\n",
    "### Task 3.1: Create a Drifting Grating\n",
    "\n",
    "Implement a function that generates a drifting sinusoidal grating stimulus."
   ]
  },
  {
   "cell_type": "code",
   "execution_count": null,
   "id": "c5f04a4c",
   "metadata": {},
   "outputs": [],
   "source": [
    "def create_drifting_grating(width, frames, spatial_freq, temporal_freq, contrast=1.0):\n",
    "    \"\"\"\n",
    "    Create a drifting sinusoidal grating stimulus.\n",
    "    \n",
    "    Parameters:\n",
    "    -----------\n",
    "    width : int\n",
    "        Width of the spatial dimension\n",
    "    frames : int\n",
    "        Number of frames\n",
    "    spatial_freq : float\n",
    "        Spatial frequency in cycles per pixel\n",
    "    temporal_freq : float\n",
    "        Temporal frequency in cycles per frame\n",
    "    contrast : float, optional\n",
    "        Contrast of the grating (0 to 1)\n",
    "        \n",
    "    Returns:\n",
    "    --------\n",
    "    grating : ndarray\n",
    "        2D array with dimensions (frames, width)\n",
    "    \"\"\"\n",
    "    # TODO: Implement the drifting grating stimulus\n",
    "    # Hint: Use the formula sin(2π(fx*x - ft*t)) where fx is spatial_freq and ft is temporal_freq\n",
    "    \n",
    "    # Your code here\n",
    "    \n",
    "    return grating"
   ]
  },
  {
   "cell_type": "markdown",
   "id": "3c2fc5fb",
   "metadata": {},
   "source": [
    "### Task 3.2: Visualize the Drifting Grating\n",
    "\n",
    "Create a drifting grating and visualize it both as an animation and as a space-time plot."
   ]
  },
  {
   "cell_type": "code",
   "execution_count": null,
   "id": "4e8599c3",
   "metadata": {},
   "outputs": [],
   "source": [
    "# TODO: Create and visualize a drifting grating\n",
    "# Hint: Use the functions you've already implemented\n",
    "\n",
    "# Your code here"
   ]
  },
  {
   "cell_type": "markdown",
   "id": "76dd7969",
   "metadata": {},
   "source": [
    "### Task 3.3: Experiment with Different Parameters\n",
    "\n",
    "Create drifting gratings with different spatial and temporal frequencies and observe how they appear in the space-time domain."
   ]
  },
  {
   "cell_type": "code",
   "execution_count": null,
   "id": "c2a2f34d",
   "metadata": {},
   "outputs": [],
   "source": [
    "# TODO: Create and visualize drifting gratings with different parameters\n",
    "# Hint: Vary the spatial_freq and temporal_freq parameters\n",
    "\n",
    "# Your code here"
   ]
  },
  {
   "cell_type": "markdown",
   "id": "8ebead37",
   "metadata": {},
   "source": [
    "### Discussion 3.4: Drifting Gratings in Space-Time\n",
    "\n",
    "Based on your visualizations, answer the following questions:\n",
    "\n",
    "1. How does a drifting grating appear in the space-time domain?\n",
    "2. How do changes in spatial frequency affect the space-time representation?\n",
    "3. How do changes in temporal frequency affect the space-time representation?\n",
    "4. Why are drifting gratings useful stimuli for studying motion perception?"
   ]
  },
  {
   "cell_type": "markdown",
   "id": "b9d30f3e",
   "metadata": {},
   "source": [
    "Your answer here:\n",
    "\n",
    "1. \n",
    "2. \n",
    "3. \n",
    "4. "
   ]
  },
  {
   "cell_type": "markdown",
   "id": "b5a03de2",
   "metadata": {},
   "source": [
    "## Exercise 4: Reflection on Motion Energy Models\n",
    "\n",
    "### Task 4.1: Research Question\n",
    "\n",
    "Based on your understanding of motion energy models so far, write a short paragraph addressing the following question:\n",
    "\n",
    "\"How might motion energy models explain why humans can perceive motion in cases where there is no actual physical movement (e.g., apparent motion or motion aftereffects)?\""
   ]
  },
  {
   "cell_type": "markdown",
   "id": "e70f2c21",
   "metadata": {},
   "source": [
    "Your answer here:"
   ]
  },
  {
   "cell_type": "markdown",
   "id": "ba0a2c43",
   "metadata": {},
   "source": [
    "### Task 4.2: Next Steps\n",
    "\n",
    "What aspects of motion energy models are you most curious about or interested in exploring further? What questions do you have at this stage that you hope to answer throughout the course?"
   ]
  },
  {
   "cell_type": "markdown",
   "id": "de4de353",
   "metadata": {},
   "source": [
    "Your reflection here:"
   ]
  },
  {
   "cell_type": "markdown",
   "id": "f52c86a9",
   "metadata": {},
   "source": [
    "## Bonus Exercise: Creating a Motion Illusion\n",
    "\n",
    "If you've completed all the exercises and want an extra challenge, try to create a simple motion illusion using the techniques you've learned so far. Some ideas:\n",
    "\n",
    "1. Create a waterfall illusion stimulus (adapting to downward motion then viewing a static pattern)\n",
    "2. Create a moving grating with a superimposed static pattern\n",
    "3. Create a stimulus that demonstrates the aperture problem\n",
    "\n",
    "Document your implementation and observations below."
   ]
  },
  {
   "cell_type": "code",
   "execution_count": null,
   "id": "82dcccd6",
   "metadata": {},
   "outputs": [],
   "source": [
    "# Your bonus exercise implementation here"
   ]
  }
 ],
 "metadata": {
  "kernelspec": {
   "display_name": "Python 3",
   "language": "python",
   "name": "python3"
  },
  "language_info": {
   "codemirror_mode": {
    "name": "ipython",
    "version": 3
   },
   "file_extension": ".py",
   "mimetype": "text/x-python",
   "name": "python",
   "nbconvert_exporter": "python",
   "pygments_lexer": "ipython3",
   "version": "3.9.0"
  }
 },
 "nbformat": 4,
 "nbformat_minor": 5
}
