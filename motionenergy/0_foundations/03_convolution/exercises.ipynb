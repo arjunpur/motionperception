{
 "cells": [
  {
   "cell_type": "markdown",
   "metadata": {},
   "source": [
    "# Convolution: Exercises\n",
    "\n",
    "## Introduction\n",
    "\n",
    "In these exercises, you'll implement convolution operations from scratch and apply them to various signals and images. This will help build your intuition for how convolution works and its importance in motion energy models.\n",
    "\n",
    "The exercises progress from 1D to 2D and finally to 3D convolution, which is essential for processing spatiotemporal visual stimuli in motion energy models.\n",
    "\n",
    "By the end of these exercises, you'll have a solid understanding of:\n",
    "- How to implement convolution from first principles\n",
    "- The effects of different kernels on signals and images\n",
    "- How to optimize convolution operations\n",
    "- How 3D convolution applies to motion processing"
   ]
  },
  {
   "cell_type": "markdown",
   "metadata": {},
   "source": [
    "## Setup\n",
    "\n",
    "Let's import the necessary libraries for our exercises."
   ]
  },
  {
   "cell_type": "code",
   "execution_count": null,
   "metadata": {},
   "outputs": [],
   "source": [
    "import numpy as np\n",
    "import matplotlib.pyplot as plt\n",
    "import scipy.signal as signal\n",
    "import time\n",
    "import sys\n",
    "from matplotlib import animation\n",
    "from IPython.display import HTML, display\n",
    "\n",
    "# Add the utils package to the path\n",
    "sys.path.append('../../..')\n",
    "try:\n",
    "    from motionenergy.utils import stimuli_generation, visualization\n",
    "except ImportError:\n",
    "    print(\"Note: utils modules not found. This is expected if you haven't implemented them yet.\")\n",
    "\n",
    "# Set plotting style\n",
    "%matplotlib inline\n",
    "plt.style.use('seaborn-v0_8-whitegrid')\n",
    "plt.rcParams['figure.figsize'] = (10, 6)\n",
    "plt.rcParams['font.size'] = 12"
   ]
  },
  {
   "cell_type": "markdown",
   "metadata": {},
   "source": [
    "## Section 1: 1D Convolution Implementation\n",
    "\n",
    "### Exercise 1.1: Implement 1D Convolution From Scratch\n",
    "\n",
    "In this exercise, you'll implement a 1D convolution function from first principles. For two discrete signals $f$ and $g$, the convolution is defined as:\n",
    "\n",
    "$(f * g)[n] = \\sum_{m=-\\infty}^{\\infty} f[m] g[n - m]$\n",
    "\n",
    "where $g$ is typically our kernel or filter.\n",
    "\n",
    "Your function should handle the boundary issues properly by implementing \"full\" convolution, which returns an output of length `len(signal) + len(kernel) - 1`."
   ]
  },
  {
   "cell_type": "code",
   "execution_count": null,
   "metadata": {},
   "outputs": [],
   "source": [
    "def convolve_1d(signal, kernel):\n",
    "    \"\"\"\n",
    "    Implement 1D convolution from scratch.\n",
    "    \n",
    "    Parameters:\n",
    "    -----------\n",
    "    signal : ndarray\n",
    "        Input signal\n",
    "    kernel : ndarray\n",
    "        Convolution kernel\n",
    "        \n",
    "    Returns:\n",
    "    --------\n",
    "    output : ndarray\n",
    "        Convolved signal (using 'full' mode)\n",
    "    \"\"\"\n",
    "    # TODO: Implement 1D convolution here\n",
    "    \n",
    "    # Step 1: Flip the kernel for convolution (remember convolution involves flipping the kernel)\n",
    "    \n",
    "    # Step 2: Determine the output size for 'full' convolution\n",
    "    \n",
    "    # Step 3: Initialize the output array\n",
    "    \n",
    "    # Step 4: Perform the convolution\n",
    "    # For each output position, find the overlapping parts of the signal and kernel\n",
    "    # and compute the sum of their pointwise product\n",
    "    \n",
    "    # Return the result\n",
    "    pass"
   ]
  },
  {
   "cell_type": "markdown",
   "metadata": {},
   "source": [
    "### Exercise 1.2: Test Your 1D Convolution Function\n",
    "\n",
    "Now let's test your implementation against SciPy's built-in convolution function to make sure it's working correctly."
   ]
  },
  {
   "cell_type": "code",
   "execution_count": null,
   "metadata": {},
   "outputs": [],
   "source": [
    "# Create a simple signal and kernel\n",
    "signal_test = np.array([1, 2, 3, 4, 5])\n",
    "kernel_test = np.array([0.5, 0.5, 0.5])\n",
    "\n",
    "# Compute the convolution using your function\n",
    "your_result = convolve_1d(signal_test, kernel_test)\n",
    "\n",
    "# Compute the convolution using scipy's function\n",
    "scipy_result = signal.convolve(signal_test, kernel_test, mode='full')\n",
    "\n",
    "# Compare the results\n",
    "print(\"Your result:\", your_result)\n",
    "print(\"SciPy result:\", scipy_result)\n",
    "print(\"Maximum absolute difference:\", np.max(np.abs(your_result - scipy_result)))\n",
    "\n",
    "# Plot the results for comparison\n",
    "fig, axes = plt.subplots(3, 1, figsize=(10, 8))\n",
    "\n",
    "# Plot the signal and kernel\n",
    "axes[0].stem(range(len(signal_test)), signal_test, 'b', markerfmt='bo', basefmt=' ')\n",
    "axes[0].set_title('Signal')\n",
    "\n",
    "axes[1].stem(range(len(kernel_test)), kernel_test, 'r', markerfmt='ro', basefmt=' ')\n",
    "axes[1].set_title('Kernel')\n",
    "\n",
    "# Plot the results\n",
    "x = range(len(your_result))\n",
    "axes[2].stem(x, your_result, 'g', markerfmt='go', basefmt=' ', label='Your Convolution')\n",
    "axes[2].plot(x, scipy_result, 'k--', label='SciPy Convolution')\n",
    "axes[2].set_title('Convolution Results')\n",
    "axes[2].legend()\n",
    "\n",
    "plt.tight_layout()"
   ]
  },
  {
   "cell_type": "markdown",
   "metadata": {},
   "source": [
    "### Exercise 1.3: Apply 1D Convolution to Different Signals and Kernels\n",
    "\n",
    "Now let's explore the effect of different kernels on various signals. This will help build your intuition for how convolution works."
   ]
  },
  {
   "cell_type": "code",
   "execution_count": null,
   "metadata": {},
   "outputs": [],
   "source": [
    "# Define some signals and kernels to experiment with\n",
    "def create_step_signal(length=100, step_position=50):\n",
    "    \"\"\"Create a step signal\"\"\"\n",
    "    signal = np.zeros(length)\n",
    "    signal[step_position:] = 1.0\n",
    "    return signal\n",
    "\n",
    "def create_impulse_signal(length=100, impulse_position=50):\n",
    "    \"\"\"Create an impulse signal\"\"\"\n",
    "    signal = np.zeros(length)\n",
    "    signal[impulse_position] = 1.0\n",
    "    return signal\n",
    "\n",
    "def create_sine_signal(length=100, frequency=0.05):\n",
    "    \"\"\"Create a sine wave signal\"\"\"\n",
    "    x = np.arange(length)\n",
    "    return np.sin(2 * np.pi * frequency * x)\n",
    "\n",
    "# Define some kernels\n",
    "def moving_average_kernel(size=5):\n",
    "    \"\"\"Create a simple moving average kernel\"\"\"\n",
    "    return np.ones(size) / size\n",
    "\n",
    "def derivative_kernel():\n",
    "    \"\"\"Create a first derivative kernel\"\"\"\n",
    "    return np.array([-1, 0, 1]) / 2.0\n",
    "\n",
    "def gaussian_kernel(size=11, sigma=2.0):\n",
    "    \"\"\"Create a Gaussian kernel\"\"\"\n",
    "    x = np.arange(size) - (size - 1) / 2\n",
    "    return np.exp(-x**2 / (2 * sigma**2)) / (sigma * np.sqrt(2 * np.pi))\n",
    "\n",
    "# TODO: Create at least 3 different signal-kernel combinations and plot the original signals and their convolutions\n",
    "# Suggestion 1: Step signal with derivative kernel (should give an impulse at the step position)\n",
    "# Suggestion 2: Impulse signal with Gaussian kernel (should give the kernel shape centered at impulse position)\n",
    "# Suggestion 3: Sine wave with moving average kernel (should have reduced amplitude)"
   ]
  },
  {
   "cell_type": "markdown",
   "metadata": {},
   "source": [
    "## Section 2: 2D Convolution Implementation\n",
    "\n",
    "### Exercise 2.1: Implement 2D Convolution From Scratch\n",
    "\n",
    "Now let's extend our knowledge to 2D convolution, which is essential for image processing. For an image $I$ and a kernel $K$, the 2D convolution is defined as:\n",
    "\n",
    "$(I * K)[i, j] = \\sum_{m} \\sum_{n} I[i-m, j-n] K[m, n]$\n",
    "\n",
    "Implement the 2D convolution function from scratch."
   ]
  },
  {
   "cell_type": "code",
   "execution_count": null,
   "metadata": {},
   "outputs": [],
   "source": [
    "def convolve_2d(image, kernel):\n",
    "    \"\"\"\n",
    "    Implement 2D convolution from scratch.\n",
    "    \n",
    "    Parameters:\n",
    "    -----------\n",
    "    image : ndarray\n",
    "        Input image (2D array)\n",
    "    kernel : ndarray\n",
    "        Convolution kernel (2D array)\n",
    "        \n",
    "    Returns:\n",
    "    --------\n",
    "    output : ndarray\n",
    "        Convolved image (using 'full' mode)\n",
    "    \"\"\"\n",
    "    # TODO: Implement 2D convolution here\n",
    "    \n",
    "    # Step 1: Get dimensions of image and kernel\n",
    "    \n",
    "    # Step 2: Flip the kernel for convolution (in both dimensions)\n",
    "    \n",
    "    # Step 3: Determine the output dimensions for 'full' convolution\n",
    "    \n",
    "    # Step 4: Initialize the output array\n",
    "    \n",
    "    # Step 5: Perform the convolution\n",
    "    # For each output position, find the overlapping parts of the image and kernel\n",
    "    # and compute the sum of their pointwise product\n",
    "    \n",
    "    # Return the result\n",
    "    pass"
   ]
  },
  {
   "cell_type": "markdown",
   "metadata": {},
   "source": [
    "### Exercise 2.2: Test Your 2D Convolution Function\n",
    "\n",
    "Let's test your implementation against SciPy's 2D convolution."
   ]
  },
  {
   "cell_type": "code",
   "execution_count": null,
   "metadata": {},
   "outputs": [],
   "source": [
    "# Create a simple test image and kernel\n",
    "image_test = np.array([\n",
    "    [0, 0, 0, 0, 0],\n",
    "    [0, 1, 1, 1, 0],\n",
    "    [0, 1, 1, 1, 0],\n",
    "    [0, 1, 1, 1, 0],\n",
    "    [0, 0, 0, 0, 0]\n",
    "])\n",
    "\n",
    "kernel_test = np.array([\n",
    "    [0, 1, 0],\n",
    "    [1, -4, 1],\n",
    "    [0, 1, 0]\n",
    "])\n",
    "\n",
    "# Compute the convolution using your function\n",
    "your_result = convolve_2d(image_test, kernel_test)\n",
    "\n",
    "# Compute the convolution using scipy's function\n",
    "scipy_result = signal.convolve2d(image_test, kernel_test, mode='full')\n",
    "\n",
    "# Compare the results\n",
    "print(\"Maximum absolute difference:\", np.max(np.abs(your_result - scipy_result)))\n",
    "\n",
    "# Visualize the results\n",
    "fig, axes = plt.subplots(2, 2, figsize=(10, 8))\n",
    "\n",
    "axes[0, 0].imshow(image_test, cmap='gray')\n",
    "axes[0, 0].set_title('Original Image')\n",
    "axes[0, 0].set_xticks([])\n",
    "axes[0, 0].set_yticks([])\n",
    "\n",
    "axes[0, 1].imshow(kernel_test, cmap='RdBu', vmin=-4, vmax=4)\n",
    "axes[0, 1].set_title('Kernel')\n",
    "axes[0, 1].set_xticks([])\n",
    "axes[0, 1].set_yticks([])\n",
    "\n",
    "axes[1, 0].imshow(your_result, cmap='gray')\n",
    "axes[1, 0].set_title('Your Convolution Result')\n",
    "axes[1, 0].set_xticks([])\n",
    "axes[1, 0].set_yticks([])\n",
    "\n",
    "axes[1, 1].imshow(scipy_result, cmap='gray')\n",
    "axes[1, 1].set_title('SciPy Convolution Result')\n",
    "axes[1, 1].set_xticks([])\n",
    "axes[1, 1].set_yticks([])\n",
    "\n",
    "plt.tight_layout()"
   ]
  },
  {
   "cell_type": "markdown",
   "metadata": {},
   "source": [
    "### Exercise 2.3: Image Processing with Different Kernels\n",
    "\n",
    "Let's explore the effects of different kernels on image processing tasks. We'll implement common image processing operations using convolution."
   ]
  },
  {
   "cell_type": "code",
   "execution_count": null,
   "metadata": {},
   "outputs": [],
   "source": [
    "# Create a simple test image with more interesting features\n",
    "def create_test_image(size=64):\n",
    "    # Create an empty image\n",
    "    image = np.zeros((size, size))\n",
    "    \n",
    "    # Add a square\n",
    "    image[size//4:3*size//4, size//4:3*size//4] = 0.5\n",
    "    \n",
    "    # Add a smaller square with higher intensity\n",
    "    image[3*size//8:5*size//8, 3*size//8:5*size//8] = 1.0\n",
    "    \n",
    "    # Add some noise\n",
    "    noise = np.random.normal(0, 0.05, image.shape)\n",
    "    image = np.clip(image + noise, 0, 1)\n",
    "    \n",
    "    return image\n",
    "\n",
    "# Create the test image\n",
    "test_image = create_test_image(64)\n",
    "\n",
    "# TODO: Define at least 4 different kernels for image processing tasks:\n",
    "# 1. A Gaussian blur kernel\n",
    "# 2. A Laplacian edge detection kernel\n",
    "# 3. A Sobel kernel for detecting horizontal edges\n",
    "# 4. A Sobel kernel for detecting vertical edges\n",
    "\n",
    "# Apply each kernel to the test image and display the results\n",
    "# Create a visualization showing the original image, the kernels, and the filtered results"
   ]
  },
  {
   "cell_type": "markdown",
   "metadata": {},
   "source": [
    "### Exercise 2.4: Implementing Separable Convolution\n",
    "\n",
    "Some 2D kernels can be separated into the outer product of two 1D kernels, allowing for more efficient computation. The most common example is the Gaussian kernel.\n",
    "\n",
    "Implement a function to perform separable convolution and test its performance against direct 2D convolution."
   ]
  },
  {
   "cell_type": "code",
   "execution_count": null,
   "metadata": {},
   "outputs": [],
   "source": [
    "def is_separable(kernel, tolerance=1e-10):\n",
    "    \"\"\"\n",
    "    Check if a 2D kernel is separable by using SVD.\n",
    "    If the kernel is separable, it will have only one singular value above the tolerance.\n",
    "    \n",
    "    Parameters:\n",
    "    -----------\n",
    "    kernel : ndarray\n",
    "        2D kernel to check\n",
    "    tolerance : float\n",
    "        Threshold for singular values\n",
    "        \n",
    "    Returns:\n",
    "    --------\n",
    "    is_separable : bool\n",
    "        True if the kernel is separable\n",
    "    row_kernel : ndarray\n",
    "        1D row kernel if separable, None otherwise\n",
    "    col_kernel : ndarray\n",
    "        1D column kernel if separable, None otherwise\n",
    "    \"\"\"\n",
    "    # TODO: Implement a function to check if a kernel is separable\n",
    "    # Hint: Use singular value decomposition (SVD) - np.linalg.svd\n",
    "    # A separable kernel will have only one significant singular value\n",
    "    pass\n",
    "\n",
    "def apply_separable_convolution(image, row_kernel, col_kernel):\n",
    "    \"\"\"\n",
    "    Apply separable convolution to an image.\n",
    "    \n",
    "    Parameters:\n",
    "    -----------\n",
    "    image : ndarray\n",
    "        Input image\n",
    "    row_kernel : ndarray\n",
    "        1D kernel for row-wise convolution\n",
    "    col_kernel : ndarray\n",
    "        1D kernel for column-wise convolution\n",
    "        \n",
    "    Returns:\n",
    "    --------\n",
    "    output : ndarray\n",
    "        Convolved image\n",
    "    \"\"\"\n",
    "    # TODO: Implement separable convolution\n",
    "    # Apply 1D convolution along rows first, then along columns\n",
    "    pass\n",
    "\n",
    "# Test the separable convolution with a Gaussian kernel\n",
    "# Compare the performance against direct 2D convolution\n",
    "# Verify that the results are nearly identical\n",
    "\n",
    "# Create a Gaussian kernel and test if it's separable\n",
    "# Measure and compare the execution time of direct vs. separable convolution"
   ]
  },
  {
   "cell_type": "markdown",
   "metadata": {},
   "source": [
    "## Section 3: 3D Convolution for Motion Processing\n",
    "\n",
    "### Exercise 3.1: Implement 3D Convolution\n",
    "\n",
    "For motion energy models, we need to process spatiotemporal data, which requires 3D convolution. The 3D convolution extends the 2D case to include the time dimension:\n",
    "\n",
    "$(V * K)[i, j, k] = \\sum_{l} \\sum_{m} \\sum_{n} V[i-l, j-m, k-n] K[l, m, n]$\n",
    "\n",
    "where $V$ is a 3D volume (spatiotemporal data) and $K$ is a 3D kernel.\n",
    "\n",
    "Implement a 3D convolution function."
   ]
  },
  {
   "cell_type": "code",
   "execution_count": null,
   "metadata": {},
   "outputs": [],
   "source": [
    "def convolve_3d(volume, kernel):\n",
    "    \"\"\"\n",
    "    Implement 3D convolution from scratch.\n",
    "    \n",
    "    Parameters:\n",
    "    -----------\n",
    "    volume : ndarray\n",
    "        Input volume (3D array, spatiotemporal data)\n",
    "    kernel : ndarray\n",
    "        Convolution kernel (3D array)\n",
    "        \n",
    "    Returns:\n",
    "    --------\n",
    "    output : ndarray\n",
    "        Convolved volume (using 'full' mode)\n",
    "    \"\"\"\n",
    "    # TODO: Implement 3D convolution here\n",
    "    # This is similar to 2D convolution but with an additional dimension\n",
    "    pass"
   ]
  },
  {
   "cell_type": "markdown",
   "metadata": {},
   "source": [
    "### Exercise 3.2: Testing 3D Convolution with Spatiotemporal Data\n",
    "\n",
    "Let's create some synthetic spatiotemporal data to test our 3D convolution implementation. We'll create a simple moving stimulus and a 3D filter to detect motion in a specific direction."
   ]
  },
  {
   "cell_type": "code",
   "execution_count": null,
   "metadata": {},
   "outputs": [],
   "source": [
    "def create_moving_dot_volume(width=32, height=32, frames=10, x_start=8, y_start=8, x_speed=1, y_speed=1):\n",
    "    \"\"\"\n",
    "    Create a 3D volume (width x height x frames) with a moving dot.\n",
    "    \n",
    "    Parameters:\n",
    "    -----------\n",
    "    width, height : int\n",
    "        Spatial dimensions of the volume\n",
    "    frames : int\n",
    "        Number of frames (time dimension)\n",
    "    x_start, y_start : int\n",
    "        Starting position of the dot\n",
    "    x_speed, y_speed : float\n",
    "        Speed of the dot in x and y directions\n",
    "        \n",
    "    Returns:\n",
    "    --------\n",
    "    volume : ndarray\n",
    "        3D volume with a moving dot\n",
    "    \"\"\"\n",
    "    # TODO: Create a 3D volume with a moving dot\n",
    "    # For each time frame, place a dot (e.g., a small Gaussian) at the current position\n",
    "    # Update the position based on the speed for the next frame\n",
    "    pass\n",
    "\n",
    "def create_direction_selective_filter(width=5, height=5, frames=5, preferred_direction=0):\n",
    "    \"\"\"\n",
    "    Create a direction-selective 3D filter.\n",
    "    \n",
    "    Parameters:\n",
    "    -----------\n",
    "    width, height : int\n",
    "        Spatial dimensions of the filter\n",
    "    frames : int\n",
    "        Temporal dimension of the filter\n",
    "    preferred_direction : float\n",
    "        Preferred direction in radians (0 = rightward, pi/2 = upward)\n",
    "        \n",
    "    Returns:\n",
    "    --------\n",
    "    filter : ndarray\n",
    "        3D direction-selective filter\n",
    "    \"\"\"\n",
    "    # TODO: Create a simple 3D filter that is sensitive to motion in a specific direction\n",
    "    # This could be as simple as a 3D Gaussian that is elongated in space-time along the preferred direction\n",
    "    pass\n",
    "\n",
    "# Create a moving dot stimulus\n",
    "# Create several direction-selective filters tuned to different directions\n",
    "# Apply 3D convolution and visualize the filter responses\n",
    "# Verify that each filter responds most strongly to motion in its preferred direction"
   ]
  },
  {
   "cell_type": "markdown",
   "metadata": {},
   "source": [
    "### Exercise 3.3: Optimizing 3D Convolution\n",
    "\n",
    "3D convolution can be computationally expensive. Let's explore different optimization techniques:"
   ]
  },
  {
   "cell_type": "code",
   "execution_count": null,
   "metadata": {},
   "outputs": [],
   "source": [
    "# TODO: Implement and compare different optimization techniques for 3D convolution:\n",
    "# 1. Using separable 3D filters when possible\n",
    "# 2. Using the Fourier transform (convolution theorem)\n",
    "# 3. Using vectorized operations\n",
    "# 4. Using any available library optimizations\n",
    "\n",
    "# For each technique, measure the execution time and compare the results"
   ]
  },
  {
   "cell_type": "markdown",
   "metadata": {},
   "source": [
    "## Section 4: Conceptual Questions\n",
    "\n",
    "To solidify your understanding, answer the following conceptual questions about convolution:"
   ]
  },
  {
   "cell_type": "markdown",
   "metadata": {},
   "source": [
    "### Question 4.1\n",
    "Why is the kernel flipped in convolution, and how does this differ from cross-correlation? What are the implications of this difference for motion energy models?"
   ]
  },
  {
   "cell_type": "markdown",
   "metadata": {},
   "source": [
    "**Your answer here:**"
   ]
  },
  {
   "cell_type": "markdown",
   "metadata": {},
   "source": [
    "### Question 4.2\n",
    "Explain how convolution relates to receptive fields in the visual system. How does the concept of a filter bank in motion energy models relate to populations of neurons in the visual cortex?"
   ]
  },
  {
   "cell_type": "markdown",
   "metadata": {},
   "source": [
    "**Your answer here:**"
   ]
  },
  {
   "cell_type": "markdown",
   "metadata": {},
   "source": [
    "### Question 4.3\n",
    "What is the relationship between convolution in the spatial domain and multiplication in the frequency domain? How can this relationship be exploited for efficient implementation of motion energy models?"
   ]
  },
  {
   "cell_type": "markdown",
   "metadata": {},
   "source": [
    "**Your answer here:**"
   ]
  },
  {
   "cell_type": "markdown",
   "metadata": {},
   "source": [
    "## Section 5: Extensions and Advanced Topics\n",
    "\n",
    "For those interested in exploring further, here are some advanced topics related to convolution in motion energy models:"
   ]
  },
  {
   "cell_type": "markdown",
   "metadata": {},
   "source": [
    "### Extension 5.1: Non-linear Convolution\n",
    "\n",
    "In biological vision, the relationship between stimulus and neural response is often non-linear. Implement and explore a non-linear convolution operation where the output goes through a non-linear function (e.g., half-wave rectification, squaring, normalization)."
   ]
  },
  {
   "cell_type": "code",
   "execution_count": null,
   "metadata": {},
   "outputs": [],
   "source": [
    "def non_linear_convolution(image, kernel, non_linearity='rectify'):\n",
    "    \"\"\"\n",
    "    Apply convolution followed by a non-linearity.\n",
    "    \n",
    "    Parameters:\n",
    "    -----------\n",
    "    image : ndarray\n",
    "        Input image\n",
    "    kernel : ndarray\n",
    "        Convolution kernel\n",
    "    non_linearity : str\n",
    "        Type of non-linearity to apply ('rectify', 'square', 'normalize')\n",
    "        \n",
    "    Returns:\n",
    "    --------\n",
    "    output : ndarray\n",
    "        Convolved and non-linearly transformed image\n",
    "    \"\"\"\n",
    "    # TODO: Implement non-linear convolution\n",
    "    pass\n",
    "\n",
    "# Explore different non-linearities and their effects on motion detection"
   ]
  },
  {
   "cell_type": "markdown",
   "metadata": {},
   "source": [
    "### Extension 5.2: Causal vs. Non-causal Filters\n",
    "\n",
    "In real-time systems like the visual system, only past and present information is available for processing. Explore the difference between causal and non-causal filters in motion detection."
   ]
  },
  {
   "cell_type": "code",
   "execution_count": null,
   "metadata": {},
   "outputs": [],
   "source": [
    "# TODO: Implement both causal and non-causal spatiotemporal filters\n",
    "# Compare their performance in detecting motion\n",
    "# Discuss the implications for biological and artificial motion detection systems"
   ]
  },
  {
   "cell_type": "markdown",
   "metadata": {},
   "source": [
    "## Conclusion\n",
    "\n",
    "In these exercises, you've implemented convolution operations from 1D to 3D and applied them to various signals and images. You've gained hands-on experience with a fundamental operation that is central to motion energy models.\n",
    "\n",
    "Key takeaways:\n",
    "- Convolution is a mathematical operation that combines two functions to produce a third function\n",
    "- In visual processing, convolution models how neurons with specific receptive fields respond to visual stimuli\n",
    "- 3D convolution extends this concept to include the time dimension, enabling motion detection\n",
    "- Optimization techniques like separable convolution can significantly improve computational efficiency\n",
    "\n",
    "In the next section, we'll explore the Fourier transform, which provides another powerful perspective on signal processing and motion analysis."
   ]
  }
 ],
 "metadata": {
  "kernelspec": {
   "display_name": "Python 3",
   "language": "python",
   "name": "python3"
  },
  "language_info": {
   "codemirror_mode": {
    "name": "ipython",
    "version": 3
   },
   "file_extension": ".py",
   "mimetype": "text/x-python",
   "name": "python",
   "nbconvert_exporter": "python",
   "pygments_lexer": "ipython3",
   "version": "3.9.7"
  }
 },
 "nbformat": 4,
 "nbformat_minor": 4
}