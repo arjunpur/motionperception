{
 "cells": [
  {
   "cell_type": "code",
   "execution_count": 1,
   "metadata": {},
   "outputs": [],
   "source": [
    "import numpy as np"
   ]
  },
  {
   "cell_type": "markdown",
   "metadata": {},
   "source": [
    "By default, `meshgrid(x, y)` uses `indexing='xy'`, meaning:\n",
    "\n",
    "The first output (X) varies in the `column` direction.\n",
    "The second output (Y) varies in the `row` direction.\n",
    "\n",
    "'xy' is Matplotlib-style indexing.\n",
    "- The first array output (X) has shape (len(y),len(x)). y rows, x columns\n",
    "- The second array output (Y) also has shape (len(y),len(x)).\n",
    "- Think: “X in the columns, Y in the rows.”\n",
    "\n",
    "\n",
    "Intuitively: We are creating cartesian coordinates with `xy` indexing. The first element is an `x` coordinate and the second is `y`. "
   ]
  },
  {
   "cell_type": "code",
   "execution_count": 2,
   "metadata": {},
   "outputs": [
    {
     "name": "stdout",
     "output_type": "stream",
     "text": [
      "[[1 2 3]\n",
      " [1 2 3]]\n",
      "[[10 10 10]\n",
      " [11 11 11]]\n",
      "[[[ 1 10]\n",
      "  [ 2 10]\n",
      "  [ 3 10]]\n",
      "\n",
      " [[ 1 11]\n",
      "  [ 2 11]\n",
      "  [ 3 11]]]\n"
     ]
    }
   ],
   "source": [
    "x = [1, 2, 3]\n",
    "y = [10, 11]\n",
    "\n",
    "X, Y = np.meshgrid(x, y, indexing='xy')\n",
    "\n",
    "print(X)\n",
    "print(Y)\n",
    "\n",
    "print(np.dstack((X, Y)))"
   ]
  },
  {
   "cell_type": "markdown",
   "metadata": {},
   "source": [
    "`ij` indexing is useful when you are looking to perform array like operations with a grid of numbers. Notice how each pairwise element can represent array accesses into a matrix (row first, then column.)\n",
    "\n",
    "Suppose you do a loop for i in range(3): for j in range(2): ... which indexing scheme lines up directly with (i, j) from the loop?\n"
   ]
  },
  {
   "cell_type": "code",
   "execution_count": 3,
   "metadata": {},
   "outputs": [
    {
     "name": "stdout",
     "output_type": "stream",
     "text": [
      "[[0 0 0]\n",
      " [1 1 1]\n",
      " [2 2 2]\n",
      " [3 3 3]]\n",
      "[[4 5 6]\n",
      " [4 5 6]\n",
      " [4 5 6]\n",
      " [4 5 6]]\n",
      "[[[0 4]\n",
      "  [0 5]\n",
      "  [0 6]]\n",
      "\n",
      " [[1 4]\n",
      "  [1 5]\n",
      "  [1 6]]\n",
      "\n",
      " [[2 4]\n",
      "  [2 5]\n",
      "  [2 6]]\n",
      "\n",
      " [[3 4]\n",
      "  [3 5]\n",
      "  [3 6]]]\n"
     ]
    }
   ],
   "source": [
    "rows = [0, 1, 2, 3]\n",
    "cols = [4, 5, 6]\n",
    "\n",
    "R, C = np.meshgrid(rows, cols, indexing = 'ij')\n",
    "print(R)\n",
    "print(C)\n",
    "\n",
    "print(np.dstack((R, C)))"
   ]
  },
  {
   "cell_type": "markdown",
   "metadata": {},
   "source": [
    "Q: Why does meshgrid return two separate arguments as opposed to a single combined grid?\n",
    "\n",
    "meshgrid returns separate coordinate arrays (e.g., X and Y) instead of a single combined grid because most operations and plotting functions expect each dimension’s coordinates to be stored separately. This makes it easier to do element-wise calculations like f(X, Y) or to feed X, Y, Z arrays into contour/surface plots. If meshgrid returned a single array of shape (rows, cols, 2), you’d frequently have to split it back into separate X and Y components anyway.\n",
    "\n",
    "It’s largely a design convention that emerged because it’s far more direct to handle \n",
    "X\n",
    "X and \n",
    "Y\n",
    "Y as separate 2D arrays than a single array of coordinate pairs. Here’s why:\n",
    "\n",
    "Element-Wise Math:\n",
    "If you want to evaluate f(x,y) at every grid point, separate arrays Y let you do Z = f(X, Y) directly, leveraging NumPy’s vectorized operations. If you had a single array of shape (rows, cols, 2), you’d have to slice or index out the x- and y-components first.\n",
    "\n",
    "Plotting APIs:\n",
    "Libraries like Matplotlib (and earlier MATLAB) designed their 2D plotting functions (contour, surface, etc.) to take matching arrays for each dimension and the function values. This “X, Y, Z must be the same shape” approach became the de facto standard.\n",
    "\n",
    "Historical & Interoperability:\n",
    "This convention dates back to older numeric environments (e.g., MATLAB), and NumPy/Matplotlib inherited it for compatibility and user familiarity. Many engineers and scientists already use separate coordinate arrays to specify domain and function values in academic papers, algorithms, etc.\n",
    "\n",
    "Thus, returning two (or more) coordinate arrays is simply the most straightforward way to feed data into standard plotting and numeric libraries, while also being convenient for element-wise arithmetic in NumPy.\n"
   ]
  },
  {
   "cell_type": "markdown",
   "metadata": {},
   "source": [
    "## 3D meshgrid\n",
    "\n",
    "### Historical / Plotting Convention\n",
    "\n",
    "- In a 2D scenario, 'xy' indexing is standard for contour or surface plotting (e.g., plt.contour(X, Y, Z)).\n",
    "- The resulting arrays for X and Y with 'xy' indexing end up having shapes (Ny,Nx).\n",
    "- This matches the way images are typically stored in row-major order:\n",
    "Dimension 0 = “row” = y direction,\n",
    "Dimension 1 = “column” = x direction.\n",
    "\n",
    "Q: Why Flip x and y?\n",
    "- In 2D images: The first dimension is the vertical axis (number of rows), and the second dimension is the horizontal axis (number of columns).\n",
    "Plotting libraries like Matplotlib treat the first array dimension as “down the page” (the y-axis) and the second array dimension as “across the page” (the x-axis).\n",
    "\n",
    "### Extending to 3D\n",
    "When you give np.meshgrid(x, y, z, indexing='xy'):\n",
    "\n",
    "- The first dimension remains the “y dimension” (length = len(y)).\n",
    "- The second dimension is the “x dimension” (length = len(x)).\n",
    "- The third dimension tacks on z (length = len(z)).\n",
    "Thus the shape is (Ny,Nx,Nz). It’s just the 2D shape (Ny,Nx) with an additional z dimension appended last."
   ]
  },
  {
   "cell_type": "code",
   "execution_count": 1,
   "metadata": {},
   "outputs": [
    {
     "ename": "NameError",
     "evalue": "name 'np' is not defined",
     "output_type": "error",
     "traceback": [
      "\u001b[0;31m---------------------------------------------------------------------------\u001b[0m",
      "\u001b[0;31mNameError\u001b[0m                                 Traceback (most recent call last)",
      "Cell \u001b[0;32mIn[1], line 5\u001b[0m\n\u001b[1;32m      2\u001b[0m x \u001b[38;5;241m=\u001b[39m [\u001b[38;5;241m1\u001b[39m, \u001b[38;5;241m2\u001b[39m, \u001b[38;5;241m3\u001b[39m]\n\u001b[1;32m      3\u001b[0m y \u001b[38;5;241m=\u001b[39m [\u001b[38;5;241m4\u001b[39m, \u001b[38;5;241m5\u001b[39m, \u001b[38;5;241m6\u001b[39m, \u001b[38;5;241m7\u001b[39m]\n\u001b[0;32m----> 5\u001b[0m X, Y, T \u001b[38;5;241m=\u001b[39m \u001b[43mnp\u001b[49m\u001b[38;5;241m.\u001b[39mmeshgrid(x, y, t)\n\u001b[1;32m      7\u001b[0m \u001b[38;5;28mprint\u001b[39m(\u001b[38;5;124m\"\u001b[39m\u001b[38;5;124mshape: \u001b[39m\u001b[38;5;124m%\u001b[39m\u001b[38;5;124mv\u001b[39m\u001b[38;5;124m\"\u001b[39m, T\u001b[38;5;241m.\u001b[39mshape)\n\u001b[1;32m      8\u001b[0m \u001b[38;5;28mprint\u001b[39m(\u001b[38;5;124m\"\u001b[39m\u001b[38;5;124mT: \u001b[39m\u001b[38;5;124m%\u001b[39m\u001b[38;5;124mv\u001b[39m\u001b[38;5;124m\"\u001b[39m, T)\n",
      "\u001b[0;31mNameError\u001b[0m: name 'np' is not defined"
     ]
    }
   ],
   "source": [
    "t = [0, 1]\n",
    "x = [1, 2, 3]\n",
    "y = [4, 5, 6, 7]\n",
    "\n",
    "X, Y, T = np.meshgrid(x, y, t)\n",
    "\n",
    "print(\"shape: %v\", T.shape)\n",
    "print(\"T: %v\", T)\n",
    "print(\"X: %v\", X)\n",
    "print(\"Y: %v\", Y)"
   ]
  },
  {
   "cell_type": "code",
   "execution_count": 5,
   "metadata": {},
   "outputs": [
    {
     "name": "stdout",
     "output_type": "stream",
     "text": [
      "shape: %v (2, 3, 4)\n",
      "T: %v [[[0 0 0 0]\n",
      "  [0 0 0 0]\n",
      "  [0 0 0 0]]\n",
      "\n",
      " [[1 1 1 1]\n",
      "  [1 1 1 1]\n",
      "  [1 1 1 1]]]\n",
      "X: %v [[[1 1 1 1]\n",
      "  [2 2 2 2]\n",
      "  [3 3 3 3]]\n",
      "\n",
      " [[1 1 1 1]\n",
      "  [2 2 2 2]\n",
      "  [3 3 3 3]]]\n",
      "Y: %v [[[4 5 6 7]\n",
      "  [4 5 6 7]\n",
      "  [4 5 6 7]]\n",
      "\n",
      " [[4 5 6 7]\n",
      "  [4 5 6 7]\n",
      "  [4 5 6 7]]]\n"
     ]
    }
   ],
   "source": [
    "T, X, Y = np.meshgrid(t, x, y, indexing='ij')\n",
    "\n",
    "print(\"shape: %v\", T.shape)\n",
    "print(\"T: %v\", T)\n",
    "print(\"X: %v\", X)\n",
    "print(\"Y: %v\", Y)"
   ]
  },
  {
   "cell_type": "markdown",
   "metadata": {},
   "source": [
    "## Plotting"
   ]
  },
  {
   "cell_type": "code",
   "execution_count": null,
   "metadata": {},
   "outputs": [],
   "source": []
  }
 ],
 "metadata": {
  "kernelspec": {
   "display_name": "motionperception",
   "language": "python",
   "name": "python3"
  },
  "language_info": {
   "codemirror_mode": {
    "name": "ipython",
    "version": 3
   },
   "file_extension": ".py",
   "mimetype": "text/x-python",
   "name": "python",
   "nbconvert_exporter": "python",
   "pygments_lexer": "ipython3",
   "version": "3.12.3"
  }
 },
 "nbformat": 4,
 "nbformat_minor": 2
}
