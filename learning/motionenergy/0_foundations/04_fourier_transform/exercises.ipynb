{
 "cells": [
  {
   "cell_type": "markdown",
   "metadata": {},
   "source": [
    "# Fourier Transform Exercises\n",
    "\n",
    "## Introduction\n",
    "\n",
    "In this notebook, we'll practice implementing and applying the Fourier Transform to better understand how it can be used for motion analysis and motion energy models.\n",
    "\n",
    "The Fourier Transform is a fundamental tool for understanding signals in the frequency domain. In the context of motion energy models, it allows us to:\n",
    "1. Decompose complex motion signals into their frequency components\n",
    "2. Understand the spectral signature of different motion patterns\n",
    "3. Design filters that are selective for specific directions and speeds of motion\n",
    "4. Perform efficient filtering operations using the convolution theorem\n",
    "\n",
    "By the end of these exercises, you'll have a deeper understanding of how the Fourier Transform relates to motion perception and how it forms a cornerstone of motion energy models."
   ]
  },
  {
   "cell_type": "markdown",
   "metadata": {},
   "source": [
    "## Setup\n",
    "\n",
    "First, let's import the necessary libraries and set up our environment."
   ]
  },
  {
   "cell_type": "code",
   "execution_count": null,
   "metadata": {},
   "outputs": [],
   "source": [
    "import numpy as np\n",
    "import matplotlib.pyplot as plt\n",
    "from matplotlib import animation\n",
    "from scipy.fft import fft, fft2, fftn, ifft, ifft2, ifftn, fftshift, ifftshift\n",
    "from IPython.display import HTML, display\n",
    "import sys\n",
    "import scipy.signal\n",
    "import time\n",
    "\n",
    "# Add the utils package to the path\n",
    "sys.path.append('../../..')\n",
    "try:\n",
    "    from motionenergy.utils import stimuli_generation, visualization\n",
    "except ImportError:\n",
    "    print(\"Note: utils modules not found. This is expected if you haven't implemented them yet.\")\n",
    "\n",
    "# Set plotting style\n",
    "%matplotlib inline\n",
    "plt.style.use('seaborn-v0_8-whitegrid')\n",
    "plt.rcParams['figure.figsize'] = (10, 6)\n",
    "plt.rcParams['font.size'] = 12"
   ]
  },
  {
   "cell_type": "markdown",
   "metadata": {},
   "source": [
    "## Exercise 1: 1D Fourier Transform Implementation\n",
    "\n",
    "**Objective**: Implement the Discrete Fourier Transform (DFT) from scratch to gain insight into how the Fourier Transform works.\n",
    "\n",
    "**Background**: The Discrete Fourier Transform (DFT) of a sequence $x[n]$ of length $N$ is defined as:\n",
    "\n",
    "$$X[k] = \\sum_{n=0}^{N-1} x[n] e^{-i2\\pi kn/N}$$\n",
    "\n",
    "where $k = 0, 1, 2, \\ldots, N-1$.\n",
    "\n",
    "In this exercise, you'll implement the DFT using this formula directly (without using a library function like `np.fft.fft`) to better understand the mathematical operation."
   ]
  },
  {
   "cell_type": "code",
   "execution_count": null,
   "metadata": {},
   "outputs": [],
   "source": [
    "def dft_1d(x):\n",
    "    \"\"\"\n",
    "    Compute the Discrete Fourier Transform (DFT) of a 1D signal.\n",
    "    \n",
    "    Parameters:\n",
    "    -----------\n",
    "    x : ndarray\n",
    "        Input signal (1D array)\n",
    "    \n",
    "    Returns:\n",
    "    --------\n",
    "    X : ndarray\n",
    "        Fourier Transform of the input signal\n",
    "    \"\"\"\n",
    "    # Get the length of the input signal\n",
    "    N = len(x)\n",
    "    \n",
    "    # Initialize the output array\n",
    "    X = np.zeros(N, dtype=complex)\n",
    "    \n",
    "    # TODO: Implement the DFT formula\n",
    "    # For each frequency k\n",
    "    for k in range(N):\n",
    "        # For each sample n\n",
    "        # Compute the sum: X[k] = sum(x[n] * e^(-i2πkn/N))\n",
    "        # Hint: Use np.exp() for the exponential\n",
    "        pass\n",
    "    \n",
    "    return X"
   ]
  },
  {
   "cell_type": "markdown",
   "metadata": {},
   "source": [
    "Now that you've implemented the DFT function, let's test it with a simple signal and compare it with NumPy's FFT function."
   ]
  },
  {
   "cell_type": "code",
   "execution_count": null,
   "metadata": {},
   "outputs": [],
   "source": [
    "# Create a test signal\n",
    "def create_test_signal(N=128):\n",
    "    \"\"\"Create a test signal with multiple frequency components.\"\"\"\n",
    "    t = np.linspace(0, 1, N, endpoint=False)\n",
    "    \n",
    "    # Signal with 5 Hz and 20 Hz components\n",
    "    signal = 1.0 * np.sin(2 * np.pi * 5 * t) + 0.5 * np.sin(2 * np.pi * 20 * t)\n",
    "    \n",
    "    return signal\n",
    "\n",
    "# Generate a test signal\n",
    "test_signal = create_test_signal()\n",
    "\n",
    "# Compute the DFT using your implementation\n",
    "dft_result = dft_1d(test_signal)\n",
    "\n",
    "# Compute the DFT using NumPy's FFT function\n",
    "fft_result = fft(test_signal)\n",
    "\n",
    "# Plot the signal and both DFT results\n",
    "N = len(test_signal)\n",
    "t = np.linspace(0, 1, N, endpoint=False)\n",
    "freqs = np.fft.fftfreq(N, t[1] - t[0])\n",
    "\n",
    "fig, axes = plt.subplots(3, 1, figsize=(10, 10))\n",
    "\n",
    "# Plot the time-domain signal\n",
    "axes[0].plot(t, test_signal)\n",
    "axes[0].set_title('Time Domain Signal')\n",
    "axes[0].set_xlabel('Time (s)')\n",
    "axes[0].set_ylabel('Amplitude')\n",
    "axes[0].grid(True)\n",
    "\n",
    "# Plot the magnitude of your DFT\n",
    "axes[1].stem(freqs[:N//2], 2.0 * np.abs(dft_result[:N//2]) / N)\n",
    "axes[1].set_title('Magnitude Spectrum (Your DFT)')\n",
    "axes[1].set_xlabel('Frequency (Hz)')\n",
    "axes[1].set_ylabel('Magnitude')\n",
    "axes[1].grid(True)\n",
    "\n",
    "# Plot the magnitude of NumPy's FFT\n",
    "axes[2].stem(freqs[:N//2], 2.0 * np.abs(fft_result[:N//2]) / N)\n",
    "axes[2].set_title('Magnitude Spectrum (NumPy FFT)')\n",
    "axes[2].set_xlabel('Frequency (Hz)')\n",
    "axes[2].set_ylabel('Magnitude')\n",
    "axes[2].grid(True)\n",
    "\n",
    "plt.tight_layout()\n",
    "plt.show()"
   ]
  },
  {
   "cell_type": "markdown",
   "metadata": {},
   "source": [
    "### Questions to Consider\n",
    "\n",
    "1. How do the results of your DFT implementation compare with NumPy's FFT?\n",
    "2. What is the time complexity of your DFT implementation? How does it compare with the Fast Fourier Transform (FFT) algorithm?\n",
    "3. Looking at the magnitude spectrum, can you identify the frequency components of the test signal?\n",
    "4. How does changing the signal length affect the frequency resolution of the DFT?"
   ]
  },
  {
   "cell_type": "markdown",
   "metadata": {},
   "source": [
    "### Fourier Series Approximation\n",
    "\n",
    "Another important aspect of Fourier analysis is the idea that we can approximate any periodic signal using a sum of sine and cosine functions. This is known as the Fourier series.\n",
    "\n",
    "Let's implement a function to compute the Fourier series coefficients and reconstruct a signal."
   ]
  },
  {
   "cell_type": "code",
   "execution_count": null,
   "metadata": {},
   "outputs": [],
   "source": [
    "def compute_fourier_series(signal, num_harmonics):\n",
    "    \"\"\"\n",
    "    Compute the Fourier series coefficients of a periodic signal.\n",
    "    \n",
    "    Parameters:\n",
    "    -----------\n",
    "    signal : ndarray\n",
    "        Input signal (assumed to be one period)\n",
    "    num_harmonics : int\n",
    "        Number of harmonics to compute\n",
    "    \n",
    "    Returns:\n",
    "    --------\n",
    "    a : ndarray\n",
    "        Cosine coefficients\n",
    "    b : ndarray\n",
    "        Sine coefficients\n",
    "    \"\"\"\n",
    "    N = len(signal)\n",
    "    \n",
    "    # Initialize coefficient arrays\n",
    "    a = np.zeros(num_harmonics + 1)  # +1 for the constant term (DC)\n",
    "    b = np.zeros(num_harmonics + 1)  # b[0] will always be 0\n",
    "    \n",
    "    # TODO: Compute the Fourier series coefficients\n",
    "    # For the constant term (DC component)\n",
    "    # a[0] = (1/N) * sum(signal)\n",
    "    \n",
    "    # For each harmonic\n",
    "    # Compute a[k] = (2/N) * sum(signal * cos(2πkn/N))\n",
    "    # Compute b[k] = (2/N) * sum(signal * sin(2πkn/N))\n",
    "    \n",
    "    return a, b\n",
    "\n",
    "def reconstruct_signal(a, b, N):\n",
    "    \"\"\"\n",
    "    Reconstruct a signal from its Fourier series coefficients.\n",
    "    \n",
    "    Parameters:\n",
    "    -----------\n",
    "    a : ndarray\n",
    "        Cosine coefficients\n",
    "    b : ndarray\n",
    "        Sine coefficients\n",
    "    N : int\n",
    "        Length of the reconstructed signal\n",
    "    \n",
    "    Returns:\n",
    "    --------\n",
    "    signal : ndarray\n",
    "        Reconstructed signal\n",
    "    \"\"\"\n",
    "    # Initialize the reconstructed signal\n",
    "    signal = np.zeros(N)\n",
    "    \n",
    "    # Generate the time vector\n",
    "    n = np.arange(N)\n",
    "    \n",
    "    # TODO: Reconstruct the signal\n",
    "    # Start with the constant term (DC component)\n",
    "    # signal = a[0]\n",
    "    \n",
    "    # For each harmonic\n",
    "    # Add a[k] * cos(2πkn/N) + b[k] * sin(2πkn/N)\n",
    "    \n",
    "    return signal"
   ]
  },
  {
   "cell_type": "markdown",
   "metadata": {},
   "source": [
    "Let's test these functions by approximating a square wave with varying numbers of harmonics."
   ]
  },
  {
   "cell_type": "code",
   "execution_count": null,
   "metadata": {},
   "outputs": [],
   "source": [
    "# Create a square wave\n",
    "def create_square_wave(N=128):\n",
    "    \"\"\"Create a square wave with period N.\"\"\"\n",
    "    t = np.arange(N)\n",
    "    square_wave = np.zeros(N)\n",
    "    square_wave[0:N//2] = 1.0\n",
    "    return square_wave\n",
    "\n",
    "# Generate a square wave\n",
    "N = 128\n",
    "square_wave = create_square_wave(N)\n",
    "\n",
    "# List of harmonics to test\n",
    "harmonics_list = [1, 3, 5, 10, 20, 50]\n",
    "\n",
    "# Compute Fourier series and reconstruct for each number of harmonics\n",
    "fig, axes = plt.subplots(len(harmonics_list) + 1, 1, figsize=(10, 12))\n",
    "\n",
    "# Plot the original square wave\n",
    "axes[0].plot(np.arange(N), square_wave)\n",
    "axes[0].set_title('Original Square Wave')\n",
    "axes[0].set_ylim(-0.2, 1.2)\n",
    "axes[0].grid(True)\n",
    "\n",
    "# Compute and plot reconstructions with different numbers of harmonics\n",
    "for i, num_harmonics in enumerate(harmonics_list):\n",
    "    # Compute Fourier series coefficients\n",
    "    a, b = compute_fourier_series(square_wave, num_harmonics)\n",
    "    \n",
    "    # Reconstruct the signal\n",
    "    reconstructed = reconstruct_signal(a, b, N)\n",
    "    \n",
    "    # Plot\n",
    "    axes[i+1].plot(np.arange(N), reconstructed)\n",
    "    axes[i+1].set_title(f'Reconstructed with {num_harmonics} Harmonics')\n",
    "    axes[i+1].set_ylim(-0.2, 1.2)\n",
    "    axes[i+1].grid(True)\n",
    "\n",
    "plt.tight_layout()\n",
    "plt.show()"
   ]
  },
  {
   "cell_type": "markdown",
   "metadata": {},
   "source": [
    "### Visualizing the Gibbs Phenomenon\n",
    "\n",
    "The Gibbs phenomenon is a common artifact observed when using Fourier series to approximate signals with discontinuities. Let's create an animation to observe this phenomenon as we add more harmonics."
   ]
  },
  {
   "cell_type": "code",
   "execution_count": null,
   "metadata": {},
   "outputs": [],
   "source": [
    "def animate_fourier_approximation(signal, max_harmonics=50):\n",
    "    \"\"\"\n",
    "    Create an animation of Fourier series approximation with increasing harmonics.\n",
    "    \n",
    "    Parameters:\n",
    "    -----------\n",
    "    signal : ndarray\n",
    "        Input signal to approximate\n",
    "    max_harmonics : int\n",
    "        Maximum number of harmonics to include\n",
    "    \"\"\"\n",
    "    N = len(signal)\n",
    "    t = np.arange(N)\n",
    "    \n",
    "    # Create a figure for the animation\n",
    "    fig, ax = plt.subplots(figsize=(10, 6))\n",
    "    line_orig, = ax.plot(t, signal, 'k--', label='Original')\n",
    "    line_approx, = ax.plot(t, np.zeros_like(signal), 'r-', label='Approximation')\n",
    "    ax.set_ylim(-0.3, 1.3)\n",
    "    ax.set_title('Fourier Series Approximation')\n",
    "    ax.set_xlabel('Sample')\n",
    "    ax.set_ylabel('Amplitude')\n",
    "    ax.legend()\n",
    "    ax.grid(True)\n",
    "    \n",
    "    # Text to display the number of harmonics\n",
    "    text = ax.text(0.02, 0.95, '', transform=ax.transAxes)\n",
    "    \n",
    "    # Pre-compute all approximations for efficiency\n",
    "    approximations = []\n",
    "    for h in range(1, max_harmonics + 1):\n",
    "        a, b = compute_fourier_series(signal, h)\n",
    "        approximations.append(reconstruct_signal(a, b, N))\n",
    "    \n",
    "    # Animation function\n",
    "    def animate(i):\n",
    "        # i is the number of harmonics\n",
    "        if i == 0:\n",
    "            line_approx.set_ydata(np.zeros_like(signal))\n",
    "            text.set_text(f'Harmonics: 0')\n",
    "        else:\n",
    "            line_approx.set_ydata(approximations[i-1])\n",
    "            text.set_text(f'Harmonics: {i}')\n",
    "        return line_approx, text\n",
    "    \n",
    "    # Create the animation\n",
    "    anim = animation.FuncAnimation(fig, animate, frames=max_harmonics+1, interval=200, blit=True)\n",
    "    \n",
    "    # Display the animation\n",
    "    return HTML(anim.to_jshtml())\n",
    "\n",
    "# Create and animate a square wave approximation\n",
    "square_wave = create_square_wave(128)\n",
    "animate_fourier_approximation(square_wave, max_harmonics=30)"
   ]
  },
  {
   "cell_type": "markdown",
   "metadata": {},
   "source": [
    "### Questions to Consider\n",
    "\n",
    "1. How does the approximation improve as you increase the number of harmonics?\n",
    "2. What is the Gibbs phenomenon, and where do you see it in the reconstructed signals?\n",
    "3. How do the Fourier series coefficients relate to the DFT?\n",
    "4. How could you use this approach to analyze and reconstruct motion signals?"
   ]
  },
  {
   "cell_type": "markdown",
   "metadata": {},
   "source": [
    "## Exercise 2: 2D Fourier Analysis\n",
    "\n",
    "**Objective**: Implement and visualize the 2D Fourier Transform of various image patterns, with a focus on how spatial frequencies relate to visual perception.\n",
    "\n",
    "**Background**: The 2D Fourier Transform extends the concept to two dimensions, allowing us to analyze the spatial frequency content of images. This is particularly relevant for understanding how the visual system processes patterns and textures.\n",
    "\n",
    "First, let's write a function to generate various test patterns."
   ]
  },
  {
   "cell_type": "code",
   "execution_count": null,
   "metadata": {},
   "outputs": [],
   "source": [
    "def create_pattern(pattern_type, size=128, **kwargs):\n",
    "    \"\"\"\n",
    "    Create a test pattern for 2D Fourier analysis.\n",
    "    \n",
    "    Parameters:\n",
    "    -----------\n",
    "    pattern_type : str\n",
    "        Type of pattern ('grating', 'checkerboard', 'spots', 'rings')\n",
    "    size : int\n",
    "        Size of the image (size x size)\n",
    "    **kwargs : dict\n",
    "        Additional parameters specific to each pattern type\n",
    "    \n",
    "    Returns:\n",
    "    --------\n",
    "    pattern : ndarray\n",
    "        2D array containing the pattern\n",
    "    \"\"\"\n",
    "    x = np.linspace(-1, 1, size)\n",
    "    y = np.linspace(-1, 1, size)\n",
    "    X, Y = np.meshgrid(x, y)\n",
    "    \n",
    "    if pattern_type == 'grating':\n",
    "        # Get parameters\n",
    "        freq = kwargs.get('freq', 5)  # cycles per image\n",
    "        angle = kwargs.get('angle', 0)  # radians\n",
    "        phase = kwargs.get('phase', 0)  # radians\n",
    "        \n",
    "        # TODO: Generate a sinusoidal grating\n",
    "        # 1. Rotate coordinates: X_rot = X * cos(angle) + Y * sin(angle)\n",
    "        # 2. Create the grating: pattern = sin(2π * freq * X_rot + phase)\n",
    "        pattern = None\n",
    "        \n",
    "    elif pattern_type == 'checkerboard':\n",
    "        # Get parameters\n",
    "        freq = kwargs.get('freq', 4)  # cycles per image\n",
    "        \n",
    "        # TODO: Generate a checkerboard pattern\n",
    "        # Hint: You can use the product of two perpendicular gratings\n",
    "        # pattern = sign(sin(2π * freq * X)) * sign(sin(2π * freq * Y))\n",
    "        pattern = None\n",
    "        \n",
    "    elif pattern_type == 'spots':\n",
    "        # Get parameters\n",
    "        radius = kwargs.get('radius', 0.1)\n",
    "        grid_size = kwargs.get('grid_size', 4)\n",
    "        \n",
    "        # TODO: Generate a grid of spots\n",
    "        # 1. Create a grid of positions\n",
    "        # 2. For each position, create a circular spot using the distance formula\n",
    "        pattern = None\n",
    "        \n",
    "    elif pattern_type == 'rings':\n",
    "        # Get parameters\n",
    "        freq = kwargs.get('freq', 5)  # cycles per image\n",
    "        \n",
    "        # TODO: Generate a series of concentric rings\n",
    "        # 1. Compute the distance from the center: R = sqrt(X² + Y²)\n",
    "        # 2. Create the rings: pattern = sin(2π * freq * R)\n",
    "        pattern = None\n",
    "        \n",
    "    else:\n",
    "        raise ValueError(f\"Unknown pattern type: {pattern_type}\")\n",
    "    \n",
    "    return pattern"
   ]
  },
  {
   "cell_type": "markdown",
   "metadata": {},
   "source": [
    "Now, let's write a function to compute and visualize the 2D Fourier Transform of these patterns."
   ]
  },
  {
   "cell_type": "code",
   "execution_count": null,
   "metadata": {},
   "outputs": [],
   "source": [
    "def compute_and_visualize_2d_fft(image, log_scale=True):\n",
    "    \"\"\"\n",
    "    Compute and visualize the 2D Fourier Transform of an image.\n",
    "    \n",
    "    Parameters:\n",
    "    -----------\n",
    "    image : ndarray\n",
    "        Input image (2D array)\n",
    "    log_scale : bool\n",
    "        Whether to use a logarithmic scale for visualization\n",
    "    \"\"\"\n",
    "    # TODO: Compute the 2D FFT\n",
    "    # 1. Use fft2() to compute the 2D FFT\n",
    "    # 2. Use fftshift() to shift the zero frequency to the center\n",
    "    \n",
    "    # TODO: Compute the magnitude and phase\n",
    "    # 1. Magnitude: mag = abs(fft_shifted)\n",
    "    # 2. If log_scale is True, use log(1 + mag) for better visualization\n",
    "    # 3. Phase: phase = angle(fft_shifted)\n",
    "    \n",
    "    # Create a figure to display the results\n",
    "    fig, axes = plt.subplots(1, 3, figsize=(18, 6))\n",
    "    \n",
    "    # Display the original image\n",
    "    axes[0].imshow(image, cmap='gray')\n",
    "    axes[0].set_title('Original Image')\n",
    "    axes[0].axis('off')\n",
    "    \n",
    "    # Display the magnitude spectrum\n",
    "    axes[1].imshow(magnitude, cmap='viridis')\n",
    "    axes[1].set_title('Magnitude Spectrum' + (' (Log Scale)' if log_scale else ''))\n",
    "    axes[1].axis('off')\n",
    "    \n",
    "    # Display the phase spectrum\n",
    "    axes[2].imshow(phase, cmap='hsv')\n",
    "    axes[2].set_title('Phase Spectrum')\n",
    "    axes[2].axis('off')\n",
    "    \n",
    "    plt.tight_layout()\n",
    "    plt.show()"
   ]
  },
  {
   "cell_type": "markdown",
   "metadata": {},
   "source": [
    "Let's generate and analyze various patterns."
   ]
  },
  {
   "cell_type": "code",
   "execution_count": null,
   "metadata": {},
   "outputs": [],
   "source": [
    "# Generate and analyze a horizontal grating\n",
    "horizontal_grating = create_pattern('grating', freq=8, angle=0)\n",
    "compute_and_visualize_2d_fft(horizontal_grating)"
   ]
  },
  {
   "cell_type": "code",
   "execution_count": null,
   "metadata": {},
   "outputs": [],
   "source": [
    "# Generate and analyze a vertical grating\n",
    "vertical_grating = create_pattern('grating', freq=8, angle=np.pi/2)\n",
    "compute_and_visualize_2d_fft(vertical_grating)"
   ]
  },
  {
   "cell_type": "code",
   "execution_count": null,
   "metadata": {},
   "outputs": [],
   "source": [
    "# Generate and analyze a diagonal grating\n",
    "diagonal_grating = create_pattern('grating', freq=8, angle=np.pi/4)\n",
    "compute_and_visualize_2d_fft(diagonal_grating)"
   ]
  },
  {
   "cell_type": "code",
   "execution_count": null,
   "metadata": {},
   "outputs": [],
   "source": [
    "# Generate and analyze a checkerboard pattern\n",
    "checkerboard = create_pattern('checkerboard', freq=4)\n",
    "compute_and_visualize_2d_fft(checkerboard)"
   ]
  },
  {
   "cell_type": "code",
   "execution_count": null,
   "metadata": {},
   "outputs": [],
   "source": [
    "# Generate and analyze a spots pattern\n",
    "spots = create_pattern('spots', radius=0.05, grid_size=8)\n",
    "compute_and_visualize_2d_fft(spots)"
   ]
  },
  {
   "cell_type": "code",
   "execution_count": null,
   "metadata": {},
   "outputs": [],
   "source": [
    "# Generate and analyze a rings pattern\n",
    "rings = create_pattern('rings', freq=6)\n",
    "compute_and_visualize_2d_fft(rings)"
   ]
  },
  {
   "cell_type": "markdown",
   "metadata": {},
   "source": [
    "### Questions to Consider\n",
    "\n",
    "1. How does the orientation of a grating in the spatial domain relate to its representation in the frequency domain?\n",
    "2. What pattern do you see in the Fourier Transform of the checkerboard? How does it relate to the Fourier Transform of gratings?\n",
    "3. What pattern do you see in the Fourier Transform of the spots? How does it relate to the spot arrangement?\n",
    "4. What pattern do you see in the Fourier Transform of the rings? Why does it have this structure?\n",
    "5. How might these patterns relate to visual perception and the receptive fields of neurons in the visual cortex?"
   ]
  },
  {
   "cell_type": "markdown",
   "metadata": {},
   "source": [
    "## Exercise 3: Motion and Frequency\n",
    "\n",
    "**Objective**: Analyze moving stimuli in the frequency domain to understand the spectral signature of motion.\n",
    "\n",
    "**Background**: Moving patterns have a specific signature in the spatio-temporal frequency domain. By analyzing this signature, we can understand how the visual system might detect and process motion.\n",
    "\n",
    "First, let's create a function to generate a moving grating."
   ]
  },
  {
   "cell_type": "code",
   "execution_count": null,
   "metadata": {},
   "outputs": [],
   "source": [
    "def create_moving_grating(size=64, frames=32, spatial_freq=8, velocity=2, direction=0):\n",
    "    \"\"\"\n",
    "    Create a moving grating.\n",
    "    \n",
    "    Parameters:\n",
    "    -----------\n",
    "    size : int\n",
    "        Spatial size of each frame\n",
    "    frames : int\n",
    "        Number of frames\n",
    "    spatial_freq : float\n",
    "        Spatial frequency in cycles per image\n",
    "    velocity : float\n",
    "        Velocity in pixels per frame\n",
    "    direction : float\n",
    "        Direction of motion in radians (0 for rightward, π/2 for upward)\n",
    "    \n",
    "    Returns:\n",
    "    --------\n",
    "    grating : ndarray\n",
    "        3D array (height x width x frames) containing the moving grating\n",
    "    \"\"\"\n",
    "    # TODO: Create a 3D array to hold the moving grating\n",
    "    # grating = np.zeros((size, size, frames))\n",
    "    \n",
    "    # TODO: Create a meshgrid for spatial coordinates\n",
    "    # x = np.linspace(-size/2, size/2, size)\n",
    "    # y = np.linspace(-size/2, size/2, size)\n",
    "    # X, Y = np.meshgrid(x, y)\n",
    "    \n",
    "    # TODO: Generate each frame\n",
    "    # For each time t\n",
    "    # 1. Compute the phase based on velocity and direction: phase = 2π * velocity * t / size\n",
    "    # 2. Rotate coordinates based on direction: X_rot = X * cos(direction) + Y * sin(direction)\n",
    "    # 3. Create the grating: grating[:, :, t] = sin(2π * spatial_freq * X_rot / size - phase)\n",
    "    \n",
    "    return grating"
   ]
  },
  {
   "cell_type": "markdown",
   "metadata": {},
   "source": [
    "Now, let's write a function to visualize the moving grating."
   ]
  },
  {
   "cell_type": "code",
   "execution_count": null,
   "metadata": {},
   "outputs": [],
   "source": [
    "def visualize_moving_grating(grating):\n",
    "    \"\"\"\n",
    "    Visualize a moving grating.\n",
    "    \n",
    "    Parameters:\n",
    "    -----------\n",
    "    grating : ndarray\n",
    "        3D array (height x width x frames)\n",
    "    \"\"\"\n",
    "    fig, ax = plt.subplots(figsize=(6, 6))\n",
    "    im = ax.imshow(grating[:, :, 0], cmap='gray', vmin=-1, vmax=1)\n",
    "    ax.set_title('Moving Grating')\n",
    "    ax.axis('off')\n",
    "    \n",
    "    def update(frame):\n",
    "        im.set_array(grating[:, :, frame])\n",
    "        return [im]\n",
    "    \n",
    "    ani = animation.FuncAnimation(fig, update, frames=grating.shape[2], interval=50, blit=True)\n",
    "    return HTML(ani.to_jshtml())"
   ]
  },
  {
   "cell_type": "markdown",
   "metadata": {},
   "source": [
    "Next, let's write a function to compute and visualize the 3D Fourier Transform of the moving grating."
   ]
  },
  {
   "cell_type": "code",
   "execution_count": null,
   "metadata": {},
   "outputs": [],
   "source": [
    "def compute_and_visualize_3d_fft(grating):\n",
    "    \"\"\"\n",
    "    Compute and visualize the 3D FFT of a moving grating.\n",
    "    \n",
    "    Parameters:\n",
    "    -----------\n",
    "    grating : ndarray\n",
    "        3D array (height x width x frames)\n",
    "    \"\"\"\n",
    "    # TODO: Compute the 3D FFT\n",
    "    # 1. Use fftn() to compute the 3D FFT\n",
    "    # 2. Use fftshift() to shift the zero frequency to the center\n",
    "    \n",
    "    # TODO: Compute the magnitude (in log scale for better visualization)\n",
    "    # magnitude = np.log1p(np.abs(fft_shifted))\n",
    "    \n",
    "    # Get the center coordinates\n",
    "    h, w, d = magnitude.shape\n",
    "    ch, cw, cd = h // 2, w // 2, d // 2\n",
    "    \n",
    "    # Create a figure to visualize the 3D FFT slices\n",
    "    fig, axes = plt.subplots(1, 3, figsize=(18, 6))\n",
    "    \n",
    "    # X-Y slice (at temporal frequency = 0)\n",
    "    im1 = axes[0].imshow(magnitude[:, :, cd], cmap='viridis')\n",
    "    axes[0].set_title('X-Y Slice (Spatial Frequencies)')\n",
    "    axes[0].set_xlabel('X Frequency')\n",
    "    axes[0].set_ylabel('Y Frequency')\n",
    "    plt.colorbar(im1, ax=axes[0])\n",
    "    \n",
    "    # X-T slice (at y = center)\n",
    "    im2 = axes[1].imshow(magnitude[ch, :, :], cmap='viridis')\n",
    "    axes[1].set_title('X-T Slice (Space-Time)')\n",
    "    axes[1].set_xlabel('X Frequency')\n",
    "    axes[1].set_ylabel('Temporal Frequency')\n",
    "    plt.colorbar(im2, ax=axes[1])\n",
    "    \n",
    "    # Y-T slice (at x = center)\n",
    "    im3 = axes[2].imshow(magnitude[:, cw, :], cmap='viridis')\n",
    "    axes[2].set_title('Y-T Slice (Space-Time)')\n",
    "    axes[2].set_xlabel('Y Frequency')\n",
    "    axes[2].set_ylabel('Temporal Frequency')\n",
    "    plt.colorbar(im3, ax=axes[2])\n",
    "    \n",
    "    plt.tight_layout()\n",
    "    plt.show()"
   ]
  },
  {
   "cell_type": "markdown",
   "metadata": {},
   "source": [
    "Let's generate and analyze moving gratings with different directions and velocities."
   ]
  },
  {
   "cell_type": "code",
   "execution_count": null,
   "metadata": {},
   "outputs": [],
   "source": [
    "# Create a rightward moving grating\n",
    "rightward_grating = create_moving_grating(direction=0, velocity=2)\n",
    "\n",
    "# Visualize the moving grating\n",
    "visualize_moving_grating(rightward_grating)"
   ]
  },
  {
   "cell_type": "code",
   "execution_count": null,
   "metadata": {},
   "outputs": [],
   "source": [
    "# Compute and visualize the 3D FFT of the rightward moving grating\n",
    "compute_and_visualize_3d_fft(rightward_grating)"
   ]
  },
  {
   "cell_type": "code",
   "execution_count": null,
   "metadata": {},
   "outputs": [],
   "source": [
    "# Create a leftward moving grating\n",
    "leftward_grating = create_moving_grating(direction=np.pi, velocity=2)\n",
    "\n",
    "# Visualize the moving grating\n",
    "visualize_moving_grating(leftward_grating)"
   ]
  },
  {
   "cell_type": "code",
   "execution_count": null,
   "metadata": {},
   "outputs": [],
   "source": [
    "# Compute and visualize the 3D FFT of the leftward moving grating\n",
    "compute_and_visualize_3d_fft(leftward_grating)"
   ]
  },
  {
   "cell_type": "code",
   "execution_count": null,
   "metadata": {},
   "outputs": [],
   "source": [
    "# Create an upward moving grating\n",
    "upward_grating = create_moving_grating(direction=np.pi/2, velocity=2)\n",
    "\n",
    "# Visualize the moving grating\n",
    "visualize_moving_grating(upward_grating)"
   ]
  },
  {
   "cell_type": "code",
   "execution_count": null,
   "metadata": {},
   "outputs": [],
   "source": [
    "# Compute and visualize the 3D FFT of the upward moving grating\n",
    "compute_and_visualize_3d_fft(upward_grating)"
   ]
  },
  {
   "cell_type": "code",
   "execution_count": null,
   "metadata": {},
   "outputs": [],
   "source": [
    "# Create a faster rightward moving grating\n",
    "fast_grating = create_moving_grating(direction=0, velocity=4)\n",
    "\n",
    "# Visualize the moving grating\n",
    "visualize_moving_grating(fast_grating)"
   ]
  },
  {
   "cell_type": "code",
   "execution_count": null,
   "metadata": {},
   "outputs": [],
   "source": [
    "# Compute and visualize the 3D FFT of the faster moving grating\n",
    "compute_and_visualize_3d_fft(fast_grating)"
   ]
  },
  {
   "cell_type": "markdown",
   "metadata": {},
   "source": [
    "### Questions to Consider\n",
    "\n",
    "1. How does the direction of motion affect the orientation of the energy in the spatiotemporal frequency domain?\n",
    "2. How does the velocity of motion affect the slope of the energy in the spatiotemporal frequency domain?\n",
    "3. What is the relationship between the spatial frequency of the grating and the location of the energy peaks in the frequency domain?\n",
    "4. How might the visual system use this spatiotemporal frequency information to detect and analyze motion?"
   ]
  },
  {
   "cell_type": "markdown",
   "metadata": {},
   "source": [
    "## Exercise 4: Frequency Domain Filtering\n",
    "\n",
    "**Objective**: Implement filtering in the frequency domain and compare it with spatial domain filtering.\n",
    "\n",
    "**Background**: The convolution theorem states that convolution in the spatial domain is equivalent to multiplication in the frequency domain. This allows us to perform filtering operations more efficiently in the frequency domain for large filters.\n",
    "\n",
    "First, let's implement a function to apply a filter in the spatial domain (using convolution)."
   ]
  },
  {
   "cell_type": "code",
   "execution_count": null,
   "metadata": {},
   "outputs": [],
   "source": [
    "def apply_filter_spatial(image, kernel):\n",
    "    \"\"\"\n",
    "    Apply a filter to an image in the spatial domain using convolution.\n",
    "    \n",
    "    Parameters:\n",
    "    -----------\n",
    "    image : ndarray\n",
    "        Input image (2D array)\n",
    "    kernel : ndarray\n",
    "        Filter kernel (2D array)\n",
    "    \n",
    "    Returns:\n",
    "    --------\n",
    "    filtered_image : ndarray\n",
    "        Filtered image\n",
    "    \"\"\"\n",
    "    # TODO: Implement convolution in the spatial domain\n",
    "    # You can use the scipy.signal.convolve2d function\n",
    "    # filtered_image = scipy.signal.convolve2d(image, kernel, mode='same', boundary='wrap')\n",
    "    \n",
    "    return filtered_image"
   ]
  },
  {
   "cell_type": "markdown",
   "metadata": {},
   "source": [
    "Next, let's implement a function to apply a filter in the frequency domain."
   ]
  },
  {
   "cell_type": "code",
   "execution_count": null,
   "metadata": {},
   "outputs": [],
   "source": [
    "def apply_filter_frequency(image, kernel):\n",
    "    \"\"\"\n",
    "    Apply a filter to an image in the frequency domain using the convolution theorem.\n",
    "    \n",
    "    Parameters:\n",
    "    -----------\n",
    "    image : ndarray\n",
    "        Input image (2D array)\n",
    "    kernel : ndarray\n",
    "        Filter kernel (2D array)\n",
    "    \n",
    "    Returns:\n",
    "    --------\n",
    "    filtered_image : ndarray\n",
    "        Filtered image\n",
    "    \"\"\"\n",
    "    # TODO: Implement filtering in the frequency domain\n",
    "    # 1. Pad the kernel to match the image size\n",
    "    # 2. Compute the FFT of the image and the kernel\n",
    "    # 3. Multiply the FFTs\n",
    "    # 4. Compute the inverse FFT\n",
    "    # 5. Take the real part of the result\n",
    "    \n",
    "    return filtered_image"
   ]
  },
  {
   "cell_type": "markdown",
   "metadata": {},
   "source": [
    "Now, let's create some test images and filters to compare the two approaches."
   ]
  },
  {
   "cell_type": "code",
   "execution_count": null,
   "metadata": {},
   "outputs": [],
   "source": [
    "def create_gabor_filter(size, sigma, theta, lambd, gamma, psi):\n",
    "    \"\"\"\n",
    "    Create a Gabor filter kernel.\n",
    "    \n",
    "    Parameters:\n",
    "    -----------\n",
    "    size : int\n",
    "        Size of the filter (size x size)\n",
    "    sigma : float\n",
    "        Standard deviation of the Gaussian envelope\n",
    "    theta : float\n",
    "        Orientation of the filter in radians\n",
    "    lambd : float\n",
    "        Wavelength of the sinusoidal component\n",
    "    gamma : float\n",
    "        Spatial aspect ratio\n",
    "    psi : float\n",
    "        Phase offset\n",
    "    \n",
    "    Returns:\n",
    "    --------\n",
    "    kernel : ndarray\n",
    "        Gabor filter kernel\n",
    "    \"\"\"\n",
    "    # TODO: Implement the Gabor filter\n",
    "    # 1. Create a meshgrid of coordinates\n",
    "    # 2. Compute rotated coordinates\n",
    "    # 3. Apply the Gabor formula\n",
    "    \n",
    "    return kernel"
   ]
  },
  {
   "cell_type": "markdown",
   "metadata": {},
   "source": [
    "Let's create a test image and filter, and compare the results of spatial and frequency domain filtering."
   ]
  },
  {
   "cell_type": "code",
   "execution_count": null,
   "metadata": {},
   "outputs": [],
   "source": [
    "# Create a test image\n",
    "size = 128\n",
    "test_image = create_pattern('grating', size=size, freq=5, angle=np.pi/4)\n",
    "\n",
    "# Create a Gabor filter\n",
    "filter_size = 31  # Must be odd\n",
    "sigma = 5.0\n",
    "theta = np.pi/4  # Oriented to match the grating\n",
    "lambd = 10.0\n",
    "gamma = 0.5\n",
    "psi = 0.0\n",
    "\n",
    "gabor_filter = create_gabor_filter(filter_size, sigma, theta, lambd, gamma, psi)\n",
    "\n",
    "# Apply the filter in both domains\n",
    "filtered_spatial = apply_filter_spatial(test_image, gabor_filter)\n",
    "filtered_frequency = apply_filter_frequency(test_image, gabor_filter)\n",
    "\n",
    "# Visualize the results\n",
    "fig, axes = plt.subplots(2, 2, figsize=(12, 12))\n",
    "\n",
    "# Original image\n",
    "axes[0, 0].imshow(test_image, cmap='gray')\n",
    "axes[0, 0].set_title('Original Image')\n",
    "axes[0, 0].axis('off')\n",
    "\n",
    "# Gabor filter\n",
    "axes[0, 1].imshow(gabor_filter, cmap='gray')\n",
    "axes[0, 1].set_title('Gabor Filter')\n",
    "axes[0, 1].axis('off')\n",
    "\n",
    "# Filtered image (spatial domain)\n",
    "axes[1, 0].imshow(filtered_spatial, cmap='gray')\n",
    "axes[1, 0].set_title('Filtered Image (Spatial Domain)')\n",
    "axes[1, 0].axis('off')\n",
    "\n",
    "# Filtered image (frequency domain)\n",
    "axes[1, 1].imshow(filtered_frequency, cmap='gray')\n",
    "axes[1, 1].set_title('Filtered Image (Frequency Domain)')\n",
    "axes[1, 1].axis('off')\n",
    "\n",
    "plt.tight_layout()\n",
    "plt.show()"
   ]
  },
  {
   "cell_type": "markdown",
   "metadata": {},
   "source": [
    "Let's also compare the execution time of the two approaches."
   ]
  },
  {
   "cell_type": "code",
   "execution_count": null,
   "metadata": {},
   "outputs": [],
   "source": [
    "import time\n",
    "\n",
    "# Measure the execution time of spatial domain filtering\n",
    "start_time = time.time()\n",
    "_ = apply_filter_spatial(test_image, gabor_filter)\n",
    "spatial_time = time.time() - start_time\n",
    "\n",
    "# Measure the execution time of frequency domain filtering\n",
    "start_time = time.time()\n",
    "_ = apply_filter_frequency(test_image, gabor_filter)\n",
    "frequency_time = time.time() - start_time\n",
    "\n",
    "print(f\"Spatial domain filtering took {spatial_time:.6f} seconds\")\n",
    "print(f\"Frequency domain filtering took {frequency_time:.6f} seconds\")\n",
    "print(f\"Frequency domain is {spatial_time / frequency_time:.2f}x faster\")"
   ]
  },
  {
   "cell_type": "markdown",
   "metadata": {},
   "source": [
    "Now, let's try with a larger filter and see how the performance difference changes."
   ]
  },
  {
   "cell_type": "code",
   "execution_count": null,
   "metadata": {},
   "outputs": [],
   "source": [
    "# Create a larger Gabor filter\n",
    "filter_size = 63  # Much larger\n",
    "large_gabor_filter = create_gabor_filter(filter_size, sigma * 2, theta, lambd * 2, gamma, psi)\n",
    "\n",
    "# Measure the execution time of spatial domain filtering with the larger filter\n",
    "start_time = time.time()\n",
    "_ = apply_filter_spatial(test_image, large_gabor_filter)\n",
    "spatial_time_large = time.time() - start_time\n",
    "\n",
    "# Measure the execution time of frequency domain filtering with the larger filter\n",
    "start_time = time.time()\n",
    "_ = apply_filter_frequency(test_image, large_gabor_filter)\n",
    "frequency_time_large = time.time() - start_time\n",
    "\n",
    "print(f\"Spatial domain filtering (large filter) took {spatial_time_large:.6f} seconds\")\n",
    "print(f\"Frequency domain filtering (large filter) took {frequency_time_large:.6f} seconds\")\n",
    "print(f\"Frequency domain is {spatial_time_large / frequency_time_large:.2f}x faster with the larger filter\")"
   ]
  },
  {
   "cell_type": "markdown",
   "metadata": {},
   "source": [
    "### Questions to Consider\n",
    "\n",
    "1. How do the results of spatial and frequency domain filtering compare? Are there any differences in the output?\n",
    "2. How does the performance of the two approaches compare, especially as the filter size increases?\n",
    "3. For what types of filters and images would you prefer to use frequency domain filtering?\n",
    "4. How might the visual system implement filtering operations? Does it use something more like spatial or frequency domain filtering?"
   ]
  },
  {
   "cell_type": "markdown",
   "metadata": {},
   "source": [
    "## Conclusion\n",
    "\n",
    "In these exercises, we've explored the Fourier Transform and its applications to signal and image processing, with a focus on motion analysis. We've implemented and visualized the Fourier Transform for 1D signals, 2D images, and 3D spatiotemporal data, and we've seen how it can be used for filtering and motion analysis.\n",
    "\n",
    "Some key takeaways from these exercises:\n",
    "\n",
    "1. The Fourier Transform decomposes signals into their frequency components, which is useful for understanding the spectral content of signals.\n",
    "2. Different spatial patterns have distinct signatures in the frequency domain, which can be used for pattern recognition and filtering.\n",
    "3. Moving patterns have a specific signature in the spatiotemporal frequency domain, with the orientation and slope of the energy related to the direction and speed of motion.\n",
    "4. Filtering can be performed efficiently in the frequency domain using the convolution theorem, especially for large filters.\n",
    "\n",
    "These concepts are fundamental to understanding and implementing motion energy models, which we'll explore in more detail in later sections of the course."
   ]
  },
  {
   "cell_type": "markdown",
   "metadata": {},
   "source": [
    "## Further Exercises (Optional)\n",
    "\n",
    "1. Implement the 2D Discrete Fourier Transform from scratch (without using library functions).\n",
    "2. Explore the effect of different window functions (e.g., Hamming, Hanning, Blackman) on the Fourier Transform of signals with abrupt edges.\n",
    "3. Implement a motion detection algorithm based on the spatiotemporal frequency signature of motion.\n",
    "4. Compare the frequency domain representation of different types of motion (e.g., translation, rotation, expansion/contraction).\n",
    "5. Implement a simple motion energy model using the concepts from this section."
   ]
  },
  {
   "cell_type": "markdown",
   "metadata": {},
   "source": [
    "## References\n",
    "\n",
    "- Adelson, E. H., & Bergen, J. R. (1985). Spatiotemporal energy models for the perception of motion. Journal of the Optical Society of America A, 2(2), 284-299.\n",
    "- Smith, S. W. (1997). The Scientist and Engineer's Guide to Digital Signal Processing. California Technical Publishing. [Available online](http://www.dspguide.com/)\n",
    "- De Valois, R. L., & De Valois, K. K. (1990). Spatial Vision. Oxford University Press."
   ]
  }
 ],
 "metadata": {
  "kernelspec": {
   "display_name": "Python 3 (ipykernel)",
   "language": "python",
   "name": "python3"
  },
  "language_info": {
   "codemirror_mode": {
    "name": "ipython",
    "version": 3
   },
   "file_extension": ".py",
   "mimetype": "text/x-python",
   "name": "python",
   "nbconvert_exporter": "python",
   "pygments_lexer": "ipython3",
   "version": "3.9.7"
  }
 },
 "nbformat": 4,
 "nbformat_minor": 4
}
