{
 "cells": [
  {
   "cell_type": "markdown",
   "metadata": {},
   "source": [
    "# Matplotlib Line Styling Guide\n",
    "\n",
    "Basic Formatting Syntax\n",
    "In Matplotlib, plot styling follows this pattern:\n",
    "\n",
    "```\n",
    "plt.plot(x, y, 'fmt', **kwargs)\n",
    "```\n",
    "\n",
    "Where `fmt` is a shorthand string that combines:\n",
    "\n",
    "Color ('r', 'g', 'b', etc.)\n",
    "Line style ('-', '--', ':', etc.)\n",
    "Marker ('o', 's', '*', etc.)"
   ]
  },
  {
   "cell_type": "markdown",
   "metadata": {},
   "source": [
    "Color Options\n",
    "| Code | Color |\n",
    "|------|-------|\n",
    "| 'b' | blue |\n",
    "| 'g' | green |\n",
    "| 'r' | red |\n",
    "| 'c' | cyan |\n",
    "| 'm' | magenta |\n",
    "| 'y' | yellow |\n",
    "| 'k' | black |\n",
    "| 'w' | white |\n",
    "\n",
    "\n",
    "You can also use:\n",
    "Named colors: 'tab:blue', 'lime', 'salmon'\n",
    "Hex values: '#FF5733'\n",
    "RGB tuples: (0.2, 0.4, 0.6)\n",
    "\n",
    "\n",
    "Line Styles\n",
    "| Code | Line Style |\n",
    "|------|------------|\n",
    "| '-' | solid line |\n",
    "| '--' | dashed line |\n",
    "| '-.' | dash-dot line |\n",
    "| ':' | dotted line |\n",
    "| 'None' or ' ' | no line |\n",
    "\n",
    "\n",
    "Markers\n",
    "| Code | Marker |\n",
    "|------|--------|\n",
    "| '.' | point |\n",
    "| 'o' | circle |\n",
    "| 's' | square |\n",
    "| '+' | plus |\n",
    "| 'x' | x |\n",
    "| '*' | star |\n",
    "| 'D' | diamond |\n",
    "| '^' | triangle up |\n",
    "| 'v' | triangle down |\n",
    "| '<' | triangle left |\n",
    "| '>' | triangle right |\n",
    "| 'p' | pentagon |\n",
    "| 'h' | hexagon |"
   ]
  },
  {
   "cell_type": "code",
   "execution_count": null,
   "metadata": {},
   "outputs": [],
   "source": [
    "# Original function: blue solid line\n",
    "original, = ax.plot(x, f_values, 'b-', label=\"Original Function\")\n",
    "\n",
    "# Current approximation: red dashed line\n",
    "approx, = ax.plot([], [], 'r--', label=\"Approximation\")\n",
    "\n",
    "# Earlier approximation (for comparison): green dotted line\n",
    "prev_approx, = ax.plot([], [], 'g:', alpha=0.5, label=\"Previous Approximation\")\n",
    "\n",
    "# Error plot: orange solid line with circle markers\n",
    "error, = ax.plot([], [], 'o-', color='orange', markersize=4, label=\"Error\")"
   ]
  },
  {
   "cell_type": "markdown",
   "metadata": {},
   "source": [
    "Recommended Combinations for Scientific Plots\n",
    "- Original data: 'ko' (black circles)\n",
    "- Model/theory: 'r-' (red solid line)\n",
    "- Approximation: 'b--' (blue dashed line)\n",
    "- Error/residuals: 'g:' (green dotted line)\n",
    "- Multiple data series: 'C0-', 'C1-', 'C2-' (use matplotlib's color cycle)"
   ]
  },
  {
   "cell_type": "markdown",
   "metadata": {},
   "source": []
  }
 ],
 "metadata": {
  "kernelspec": {
   "display_name": "motionperception",
   "language": "python",
   "name": "python3"
  },
  "language_info": {
   "name": "python",
   "version": "3.12.3"
  }
 },
 "nbformat": 4,
 "nbformat_minor": 2
}
